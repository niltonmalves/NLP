{
 "cells": [
  {
   "cell_type": "code",
   "execution_count": 2,
   "metadata": {},
   "outputs": [
    {
     "name": "stdout",
     "output_type": "stream",
     "text": [
      "Requirement already satisfied: nltk in c:\\programdata\\anaconda3\\lib\\site-packages (3.4.4)\n",
      "Requirement already satisfied: six in c:\\programdata\\anaconda3\\lib\\site-packages (from nltk) (1.12.0)\n",
      "Requirement already satisfied: wordcloud in c:\\programdata\\anaconda3\\lib\\site-packages (1.5.0)\n",
      "Requirement already satisfied: numpy>=1.6.1 in c:\\programdata\\anaconda3\\lib\\site-packages (from wordcloud) (1.16.4)\n",
      "Requirement already satisfied: pillow in c:\\programdata\\anaconda3\\lib\\site-packages (from wordcloud) (6.1.0)\n"
     ]
    }
   ],
   "source": [
    "!pip install nltk\n",
    "!pip install wordcloud"
   ]
  },
  {
   "cell_type": "code",
   "execution_count": 3,
   "metadata": {},
   "outputs": [],
   "source": [
    "from word_cloud.word_cloud_generator import WordCloud"
   ]
  },
  {
   "cell_type": "code",
   "execution_count": 4,
   "metadata": {},
   "outputs": [],
   "source": [
    "from word_cloud.word_cloud_generator import WordCloud\n",
    "from IPython.core.display import HTML\n",
    "from nltk.corpus import reuters\n",
    "import nltk\n",
    "import pandas as pd"
   ]
  },
  {
   "cell_type": "code",
   "execution_count": 2,
   "metadata": {},
   "outputs": [],
   "source": [
    "from text_bozo import texts "
   ]
  },
  {
   "cell_type": "code",
   "execution_count": 3,
   "metadata": {},
   "outputs": [
    {
     "data": {
      "text/plain": [
       "'RT @MarcosQuezado1: Soltura de Lula causou oscilações na Bolsa de Valores, diz Bolsonaro https://t.co/fXJM7scM57 via @@renovamidia'"
      ]
     },
     "execution_count": 3,
     "metadata": {},
     "output_type": "execute_result"
    }
   ],
   "source": [
    "texts[1]"
   ]
  },
  {
   "cell_type": "code",
   "execution_count": 6,
   "metadata": {
    "scrolled": true
   },
   "outputs": [
    {
     "name": "stdout",
     "output_type": "stream",
     "text": [
      "Processed 10001 lines.\n",
      "10001\n"
     ]
    }
   ],
   "source": [
    "import csv\n",
    "lista=[]\n",
    "with open('bolsonaro.csv') as csv_file:\n",
    "    csv_reader = csv.reader(csv_file, delimiter=',')\n",
    "    line_count = 0\n",
    "    for row in csv_reader:\n",
    "        lista.append(row)\n",
    "        if line_count == 0:\n",
    "          #  print(f'Column names are {\", \".join(row)}')\n",
    "            line_count += 1\n",
    "        else:\n",
    "          #  print(f'\\t{row[0]} works in the {row[1]} department, and was born in {row[2]}.')\n",
    "            line_count += 1\n",
    "    print(f'Processed {line_count} lines.')\n",
    "print(len(lista))"
   ]
  },
  {
   "cell_type": "code",
   "execution_count": 7,
   "metadata": {},
   "outputs": [],
   "source": [
    "import pandas as pd\n",
    "\n",
    "df = pd.read_excel ('bozo.xls') #for an earlier version of Excel, you may need to use the file extension of 'xls'\n"
   ]
  },
  {
   "cell_type": "code",
   "execution_count": 9,
   "metadata": {},
   "outputs": [
    {
     "data": {
      "text/plain": [
       "206072"
      ]
     },
     "execution_count": 9,
     "metadata": {},
     "output_type": "execute_result"
    }
   ],
   "source": [
    "bozo_words=[]\n",
    "for j in lista:\n",
    "    #print(j)\n",
    "    t = j\n",
    "    for i in str(t).split(' '):\n",
    "        #print(i)\n",
    "        bozo_words.append(i)\n",
    "        bozo_words\n",
    "\n",
    "len(bozo_words)\n"
   ]
  },
  {
   "cell_type": "code",
   "execution_count": 10,
   "metadata": {
    "scrolled": true
   },
   "outputs": [
    {
     "data": {
      "text/plain": [
       "206072"
      ]
     },
     "execution_count": 10,
     "metadata": {},
     "output_type": "execute_result"
    }
   ],
   "source": [
    "len(bozo_words)"
   ]
  },
  {
   "cell_type": "code",
   "execution_count": 11,
   "metadata": {},
   "outputs": [
    {
     "data": {
      "text/plain": [
       "[\"['RT\", '@carteiroreaca:', 'Fui', 'notificado']"
      ]
     },
     "execution_count": 11,
     "metadata": {},
     "output_type": "execute_result"
    }
   ],
   "source": [
    "bozo_words[1:5]"
   ]
  },
  {
   "cell_type": "code",
   "execution_count": 13,
   "metadata": {
    "scrolled": true
   },
   "outputs": [
    {
     "data": {
      "text/plain": [
       "word_cloud.word_cloud_generator.WordCloud"
      ]
     },
     "execution_count": 13,
     "metadata": {},
     "output_type": "execute_result"
    }
   ],
   "source": [
    "WordCloud"
   ]
  },
  {
   "cell_type": "code",
   "execution_count": 18,
   "metadata": {},
   "outputs": [],
   "source": [
    "STOP_WORDS = frozenset([\"eu\",\"do\",\"que\", \"de\", \"para\", \"não\",\"em\",\"como\",\"rt\", \"https\", \"um\", \"co\", \"se\", \"na\", \"ao\", \"no\",\"tem\",  \"nta\",  \"brazilfight\",  \"uma\",  \"por\",\"diz\",\"ele\", \"num\",\"com\",\"ser\", \"isentoes2\",\"sobre\",\"pra\", \" _remina\", \"pelo\" ,\"sua\",  \"vai\", \"está\",\"da\",\"já\"])"
   ]
  },
  {
   "cell_type": "markdown",
   "metadata": {},
   "source": [
    "## Gerador de word clouds utilizando um único documento de texto\n",
    "\n",
    "Este exemplo mostra casos como você pode gerar nuvens de palavras com apenas um documento. Embora as cores possam ser aleatórias, neste exemplo, as cores são baseadas nas configurações de cores padrão. Por padrão, as palavras são ponderadas por contagens de palavras, a menos que você solicite explicitamente a ponderação `tfidf`. A ponderação do Tfidf só faz sentido se você tiver muitos documentos para começar, caso contrário os valores do `idf` seriam incorretos."
   ]
  },
  {
   "cell_type": "code",
   "execution_count": 19,
   "metadata": {},
   "outputs": [
    {
     "name": "stderr",
     "output_type": "stream",
     "text": [
      "C:\\ProgramData\\Anaconda3\\lib\\site-packages\\sklearn\\feature_extraction\\text.py:300: UserWarning: Your stop_words may be inconsistent with your preprocessing. Tokenizing the stop words generated tokens ['_remina'] not in stop_words.\n",
      "  'stop_words.' % sorted(inconsistent))\n"
     ]
    },
    {
     "data": {
      "text/html": [
       "<div align='center' style='width:100%'><div align='center' style='text-align:justify; border-radius: 25px;background: #fff7f7;overflow: auto; width:500px !important; padding:20px; '; text-align: center; word-wrap: break-word;> <span style='color:#bc72d0;font-size:0.8em;white-space: normal;font-family:verdana;display: inline-block;line-height:30px'>acontecendo&nbsp;</span> <span style='color:#b82c2c;font-size:3.4999999999999987em;white-space: normal;font-family:verdana;display: inline-block;line-height:30px'>bolsonaro&nbsp;</span> <span style='color:#bc72d0;font-size:0.8em;white-space: normal;font-family:verdana;display: inline-block;line-height:30px'>novo&nbsp;</span> <span style='color:#8000FF;font-size:0.9500000000000001em;white-space: normal;font-family:verdana;display: inline-block;line-height:30px'>brasil&nbsp;</span> <span style='color:#bc72d0;font-size:0.8em;white-space: normal;font-family:verdana;display: inline-block;line-height:30px'>mais&nbsp;</span> <span style='color:#8000FF;font-size:0.9500000000000001em;white-space: normal;font-family:verdana;display: inline-block;line-height:30px'>psl&nbsp;</span> <span style='color:#bc72d0;font-size:0.8em;white-space: normal;font-family:verdana;display: inline-block;line-height:30px'>contra&nbsp;</span> <span style='color:#8000FF;font-size:0.9500000000000001em;white-space: normal;font-family:verdana;display: inline-block;line-height:30px'>bolívia&nbsp;</span> <span style='color:#bc72d0;font-size:0.8em;white-space: normal;font-family:verdana;display: inline-block;line-height:30px'>postando&nbsp;</span> <span style='color:#bc72d0;font-size:0.8em;white-space: normal;font-family:verdana;display: inline-block;line-height:30px'>os&nbsp;</span> <span style='color:#bc72d0;font-size:0.8em;white-space: normal;font-family:verdana;display: inline-block;line-height:30px'>reunião&nbsp;</span> <span style='color:#a55571;font-size:0.65em;white-space: normal;font-family:verdana;display: inline-block;line-height:30px'>busca&nbsp;</span> <span style='color:#8000FF;font-size:0.9500000000000001em;white-space: normal;font-family:verdana;display: inline-block;line-height:30px'>golpe&nbsp;</span> <span style='color:#a55571;font-size:0.65em;white-space: normal;font-family:verdana;display: inline-block;line-height:30px'>lançou&nbsp;</span> <span style='color:#bc72d0;font-size:0.8em;white-space: normal;font-family:verdana;display: inline-block;line-height:30px'>nacional&nbsp;</span> <span style='color:#bc72d0;font-size:0.8em;white-space: normal;font-family:verdana;display: inline-block;line-height:30px'>fodase&nbsp;</span> <span style='color:#bc72d0;font-size:0.8em;white-space: normal;font-family:verdana;display: inline-block;line-height:30px'>urgente&nbsp;</span> <span style='color:#a55571;font-size:0.65em;white-space: normal;font-family:verdana;display: inline-block;line-height:30px'>impresso&nbsp;</span> <span style='color:#bc72d0;font-size:0.8em;white-space: normal;font-family:verdana;display: inline-block;line-height:30px'>carlos&nbsp;</span> <span style='color:#bc72d0;font-size:0.8em;white-space: normal;font-family:verdana;display: inline-block;line-height:30px'>saída&nbsp;</span> <span style='color:#bc72d0;font-size:0.8em;white-space: normal;font-family:verdana;display: inline-block;line-height:30px'>incentivar&nbsp;</span> <span style='color:#bc72d0;font-size:0.8em;white-space: normal;font-family:verdana;display: inline-block;line-height:30px'>seu&nbsp;</span> <span style='color:#bc72d0;font-size:0.8em;white-space: normal;font-family:verdana;display: inline-block;line-height:30px'>contratação&nbsp;</span> <span style='color:#bc72d0;font-size:0.8em;white-space: normal;font-family:verdana;display: inline-block;line-height:30px'>jairbolsonaro&nbsp;</span> <span style='color:#bc72d0;font-size:0.8em;white-space: normal;font-family:verdana;display: inline-block;line-height:30px'>foi&nbsp;</span> <span style='color:#bc72d0;font-size:0.8em;white-space: normal;font-family:verdana;display: inline-block;line-height:30px'>vo&nbsp;</span> <span style='color:#3498DB;font-size:1.1em;white-space: normal;font-family:verdana;display: inline-block;line-height:30px'>partido&nbsp;</span> <span style='color:#bc72d0;font-size:0.8em;white-space: normal;font-family:verdana;display: inline-block;line-height:30px'>aí&nbsp;</span> <span style='color:#bc72d0;font-size:0.8em;white-space: normal;font-family:verdana;display: inline-block;line-height:30px'>idiota&nbsp;</span> <span style='color:#8000FF;font-size:0.9500000000000001em;white-space: normal;font-family:verdana;display: inline-block;line-height:30px'>presidente&nbsp;</span> <span style='color:#bc72d0;font-size:0.8em;white-space: normal;font-family:verdana;display: inline-block;line-height:30px'>voto&nbsp;</span> <span style='color:#bc72d0;font-size:0.8em;white-space: normal;font-family:verdana;display: inline-block;line-height:30px'>_remina&nbsp;</span> <span style='color:#a55571;font-size:0.65em;white-space: normal;font-family:verdana;display: inline-block;line-height:30px'>empregos&nbsp;</span> <span style='color:#bc72d0;font-size:0.8em;white-space: normal;font-family:verdana;display: inline-block;line-height:30px'>lei&nbsp;</span> <span style='color:#bc72d0;font-size:0.8em;white-space: normal;font-family:verdana;display: inline-block;line-height:30px'>gol&nbsp;</span> <span style='color:#bc72d0;font-size:0.8em;white-space: normal;font-family:verdana;display: inline-block;line-height:30px'>onde&nbsp;</span> <span style='color:#8000FF;font-size:0.9500000000000001em;white-space: normal;font-family:verdana;display: inline-block;line-height:30px'>governo&nbsp;</span> <span style='color:#bc72d0;font-size:0.8em;white-space: normal;font-family:verdana;display: inline-block;line-height:30px'>jovens&nbsp;</span> <span style='color:#bc72d0;font-size:0.8em;white-space: normal;font-family:verdana;display: inline-block;line-height:30px'>verde&nbsp;</span> <span style='color:#bc72d0;font-size:0.8em;white-space: normal;font-family:verdana;display: inline-block;line-height:30px'>segurança&nbsp;</span> <span style='color:#bc72d0;font-size:0.8em;white-space: normal;font-family:verdana;display: inline-block;line-height:30px'>foto&nbsp;</span> <span style='color:#bc72d0;font-size:0.8em;white-space: normal;font-family:verdana;display: inline-block;line-height:30px'>amarelo&nbsp;</span> <span style='color:#bc72d0;font-size:0.8em;white-space: normal;font-family:verdana;display: inline-block;line-height:30px'>programa&nbsp;</span> <span style='color:#bc72d0;font-size:0.8em;white-space: normal;font-family:verdana;display: inline-block;line-height:30px'>jair&nbsp;</span> <span style='color:#8000FF;font-size:0.9500000000000001em;white-space: normal;font-family:verdana;display: inline-block;line-height:30px'>caralho&nbsp;</span> <span style='color:#8000FF;font-size:0.9500000000000001em;white-space: normal;font-family:verdana;display: inline-block;line-height:30px'>porra&nbsp;</span> <span style='color:#FF5733;font-size:1.25em;white-space: normal;font-family:verdana;display: inline-block;line-height:30px'>lula&nbsp;</span> <span style='color:#a55571;font-size:0.65em;white-space: normal;font-family:verdana;display: inline-block;line-height:30px'>gerar&nbsp;</span> <span style='color:#a55571;font-size:0.65em;white-space: normal;font-family:verdana;display: inline-block;line-height:30px'>milhão&nbsp;</span> <span style='color:#bc72d0;font-size:0.8em;white-space: normal;font-family:verdana;display: inline-block;line-height:30px'>visa&nbsp;</span></div></div>"
      ],
      "text/plain": [
       "<IPython.core.display.HTML object>"
      ]
     },
     "execution_count": 19,
     "metadata": {},
     "output_type": "execute_result"
    }
   ],
   "source": [
    "#APENAS UM artigo de notícias aqui\n",
    "#texts=['O SR. EDUARDO BOLSONARO (PSL - SP. Pela ordem. Sem revisão do orador.) - Sr. Presidente, reafirmo meu apoio a essa PEC. Eu já apoio a matéria desde que era PEC 308. Destaco o trabalho do Deputado Lincoln Portela, que, desde a minha primeira legislatura aqui, em 2015, sempre se posicionou a favor da Polícia Penal. Isso acaba com qualquer tipo de discussão jurídica, coloca os agentes no art. 144, passa para eles a responsabilidade pela escolta dos presos, por levá-los à Justiça. Se Deus quiser, será autorizada a interceptação telefônica também, para que fiquem iguaizinhos a todos os demais policiais.Indo um pouquinho mais à frente, eu sou a favor de privatizações, sou a favor de enxugar o tamanho do Estado, mas esses profissionais fazem parte do Estado mínimo. Eu tenho muito medo, Sr. Presidente, de que, numa discussão de privatização, uma organização criminosa de grande porte venha a ganhar uma licitação. Então, acredito que serviços como portaria, lavanderia, cozinha possam ser terceirizados. Mas esses profissionais têm que ser, sim, contratados e mantidos pelo Estado, porque são atividade-fim do Estado.Parabéns para vocês! Perfeito, Presidente. Parabéns pela condução dos trabalhos.O milionário do PSOL veio falar aqui que eu fui visitar o meu pai no hospital portando um revólver. Primeiro, não foi revólver, mas pistola. Não sabe nem a diferença entre uma coisa e outra e quer legislar para o Brasil inteiro sobre as armas. Mas antes ter pistola na cintura do que cuecão cheio de dinheiro, como o Deputado José Rodrigues. Se não quer ser esculachado em público, é só não andar com a cueca cheia de dinheiro, só isso! Às vezes, nós temos que desabafar. Ficamos aqui o tempo inteiro quietos, para a sessão transcorrer, para que nós venhamos a votar os projetos que interessam ao Brasil, ouvindo esse tipo de coisa. Às vezes, não há como ficar ouvindo Deputado que, até ontem, estava grudado em Lula e em Dilma e que está quase indo para cadeia - talvez esteja com esse perigo, esteja com medo de ir para a cadeia - vir aqui ficar bajulando presidiário. Aí não dá, Presidente! Obrigado.']\n",
    "\n",
    "\n",
    "wc=WordCloud(use_tfidf=False,stopwords=STOP_WORDS)\n",
    "\n",
    "#somente os top 50\n",
    "#embed_code=wc.get_embed_code(text=texts,random_color=False,topn=50)\n",
    "embed_code=wc.get_embed_code(text=bozo_words,random_color=False,topn=50)\n",
    "\n",
    "HTML(embed_code)"
   ]
  },
  {
   "cell_type": "code",
   "execution_count": 20,
   "metadata": {},
   "outputs": [
    {
     "data": {
      "text/html": [
       "<div align='center' style='width:100%'><div align='center' style='text-align:justify; border-radius: 25px;background: #fff7f7;overflow: auto; width:500px !important; padding:20px; '; text-align: center; word-wrap: break-word;> <span style='color:#bc72d0;font-size:0.8em;white-space: normal;font-family:verdana;display: inline-block;line-height:30px'>mais&nbsp;</span> <span style='color:#bc72d0;font-size:0.8em;white-space: normal;font-family:verdana;display: inline-block;line-height:30px'>busca&nbsp;</span> <span style='color:#bc72d0;font-size:0.8em;white-space: normal;font-family:verdana;display: inline-block;line-height:30px'>empregos&nbsp;</span> <span style='color:#bc72d0;font-size:0.8em;white-space: normal;font-family:verdana;display: inline-block;line-height:30px'>jair&nbsp;</span> <span style='color:#bc72d0;font-size:0.8em;white-space: normal;font-family:verdana;display: inline-block;line-height:30px'>urgente&nbsp;</span> <span style='color:#8000FF;font-size:0.9500000000000001em;white-space: normal;font-family:verdana;display: inline-block;line-height:30px'>bolívia&nbsp;</span> <span style='color:#bc72d0;font-size:0.8em;white-space: normal;font-family:verdana;display: inline-block;line-height:30px'>lançou&nbsp;</span> <span style='color:#848484;font-size:2.4499999999999993em;white-space: normal;font-family:verdana;display: inline-block;line-height:30px'>bolsonaro&nbsp;</span> <span style='color:#8000FF;font-size:0.9500000000000001em;white-space: normal;font-family:verdana;display: inline-block;line-height:30px'>brasil&nbsp;</span> <span style='color:#bc72d0;font-size:0.8em;white-space: normal;font-family:verdana;display: inline-block;line-height:30px'>reunião&nbsp;</span> <span style='color:#bc72d0;font-size:0.8em;white-space: normal;font-family:verdana;display: inline-block;line-height:30px'>lei&nbsp;</span> <span style='color:#8000FF;font-size:0.9500000000000001em;white-space: normal;font-family:verdana;display: inline-block;line-height:30px'>psl&nbsp;</span> <span style='color:#8000FF;font-size:0.9500000000000001em;white-space: normal;font-family:verdana;display: inline-block;line-height:30px'>governo&nbsp;</span> <span style='color:#bc72d0;font-size:0.8em;white-space: normal;font-family:verdana;display: inline-block;line-height:30px'>postando&nbsp;</span> <span style='color:#bc72d0;font-size:0.8em;white-space: normal;font-family:verdana;display: inline-block;line-height:30px'>carlos&nbsp;</span> <span style='color:#bc72d0;font-size:0.8em;white-space: normal;font-family:verdana;display: inline-block;line-height:30px'>novo&nbsp;</span> <span style='color:#bc72d0;font-size:0.8em;white-space: normal;font-family:verdana;display: inline-block;line-height:30px'>seu&nbsp;</span> <span style='color:#bc72d0;font-size:0.8em;white-space: normal;font-family:verdana;display: inline-block;line-height:30px'>contratação&nbsp;</span> <span style='color:#bc72d0;font-size:0.8em;white-space: normal;font-family:verdana;display: inline-block;line-height:30px'>impresso&nbsp;</span> <span style='color:#8000FF;font-size:0.9500000000000001em;white-space: normal;font-family:verdana;display: inline-block;line-height:30px'>presidente&nbsp;</span> <span style='color:#bc72d0;font-size:0.8em;white-space: normal;font-family:verdana;display: inline-block;line-height:30px'>saída&nbsp;</span> <span style='color:#bc72d0;font-size:0.8em;white-space: normal;font-family:verdana;display: inline-block;line-height:30px'>verde&nbsp;</span> <span style='color:#3498DB;font-size:1.1em;white-space: normal;font-family:verdana;display: inline-block;line-height:30px'>lula&nbsp;</span> <span style='color:#bc72d0;font-size:0.8em;white-space: normal;font-family:verdana;display: inline-block;line-height:30px'>gol&nbsp;</span> <span style='color:#bc72d0;font-size:0.8em;white-space: normal;font-family:verdana;display: inline-block;line-height:30px'>fodase&nbsp;</span> <span style='color:#bc72d0;font-size:0.8em;white-space: normal;font-family:verdana;display: inline-block;line-height:30px'>_remina&nbsp;</span> <span style='color:#bc72d0;font-size:0.8em;white-space: normal;font-family:verdana;display: inline-block;line-height:30px'>nacional&nbsp;</span> <span style='color:#bc72d0;font-size:0.8em;white-space: normal;font-family:verdana;display: inline-block;line-height:30px'>jairbolsonaro&nbsp;</span> <span style='color:#bc72d0;font-size:0.8em;white-space: normal;font-family:verdana;display: inline-block;line-height:30px'>incentivar&nbsp;</span> <span style='color:#bc72d0;font-size:0.8em;white-space: normal;font-family:verdana;display: inline-block;line-height:30px'>aí&nbsp;</span> <span style='color:#8000FF;font-size:0.9500000000000001em;white-space: normal;font-family:verdana;display: inline-block;line-height:30px'>caralho&nbsp;</span> <span style='color:#bc72d0;font-size:0.8em;white-space: normal;font-family:verdana;display: inline-block;line-height:30px'>segurança&nbsp;</span> <span style='color:#8000FF;font-size:0.9500000000000001em;white-space: normal;font-family:verdana;display: inline-block;line-height:30px'>partido&nbsp;</span> <span style='color:#bc72d0;font-size:0.8em;white-space: normal;font-family:verdana;display: inline-block;line-height:30px'>os&nbsp;</span> <span style='color:#bc72d0;font-size:0.8em;white-space: normal;font-family:verdana;display: inline-block;line-height:30px'>contra&nbsp;</span> <span style='color:#bc72d0;font-size:0.8em;white-space: normal;font-family:verdana;display: inline-block;line-height:30px'>milhão&nbsp;</span> <span style='color:#bc72d0;font-size:0.8em;white-space: normal;font-family:verdana;display: inline-block;line-height:30px'>voto&nbsp;</span> <span style='color:#8000FF;font-size:0.9500000000000001em;white-space: normal;font-family:verdana;display: inline-block;line-height:30px'>porra&nbsp;</span> <span style='color:#bc72d0;font-size:0.8em;white-space: normal;font-family:verdana;display: inline-block;line-height:30px'>amarelo&nbsp;</span> <span style='color:#bc72d0;font-size:0.8em;white-space: normal;font-family:verdana;display: inline-block;line-height:30px'>vo&nbsp;</span> <span style='color:#bc72d0;font-size:0.8em;white-space: normal;font-family:verdana;display: inline-block;line-height:30px'>idiota&nbsp;</span> <span style='color:#bc72d0;font-size:0.8em;white-space: normal;font-family:verdana;display: inline-block;line-height:30px'>jovens&nbsp;</span> <span style='color:#bc72d0;font-size:0.8em;white-space: normal;font-family:verdana;display: inline-block;line-height:30px'>foi&nbsp;</span> <span style='color:#bc72d0;font-size:0.8em;white-space: normal;font-family:verdana;display: inline-block;line-height:30px'>visa&nbsp;</span> <span style='color:#bc72d0;font-size:0.8em;white-space: normal;font-family:verdana;display: inline-block;line-height:30px'>programa&nbsp;</span> <span style='color:#bc72d0;font-size:0.8em;white-space: normal;font-family:verdana;display: inline-block;line-height:30px'>onde&nbsp;</span> <span style='color:#bc72d0;font-size:0.8em;white-space: normal;font-family:verdana;display: inline-block;line-height:30px'>gerar&nbsp;</span> <span style='color:#bc72d0;font-size:0.8em;white-space: normal;font-family:verdana;display: inline-block;line-height:30px'>foto&nbsp;</span> <span style='color:#bc72d0;font-size:0.8em;white-space: normal;font-family:verdana;display: inline-block;line-height:30px'>acontecendo&nbsp;</span> <span style='color:#8000FF;font-size:0.9500000000000001em;white-space: normal;font-family:verdana;display: inline-block;line-height:30px'>golpe&nbsp;</span></div></div>"
      ],
      "text/plain": [
       "<IPython.core.display.HTML object>"
      ]
     },
     "execution_count": 20,
     "metadata": {},
     "output_type": "execute_result"
    }
   ],
   "source": [
    "#APENAS UM artigo de notícias aqui\n",
    "#texts=['O SR. EDUARDO BOLSONARO (PSL - SP. Pela ordem. Sem revisão do orador.) - Sr. Presidente, reafirmo meu apoio a essa PEC. Eu já apoio a matéria desde que era PEC 308. Destaco o trabalho do Deputado Lincoln Portela, que, desde a minha primeira legislatura aqui, em 2015, sempre se posicionou a favor da Polícia Penal. Isso acaba com qualquer tipo de discussão jurídica, coloca os agentes no art. 144, passa para eles a responsabilidade pela escolta dos presos, por levá-los à Justiça. Se Deus quiser, será autorizada a interceptação telefônica também, para que fiquem iguaizinhos a todos os demais policiais.Indo um pouquinho mais à frente, eu sou a favor de privatizações, sou a favor de enxugar o tamanho do Estado, mas esses profissionais fazem parte do Estado mínimo. Eu tenho muito medo, Sr. Presidente, de que, numa discussão de privatização, uma organização criminosa de grande porte venha a ganhar uma licitação. Então, acredito que serviços como portaria, lavanderia, cozinha possam ser terceirizados. Mas esses profissionais têm que ser, sim, contratados e mantidos pelo Estado, porque são atividade-fim do Estado.Parabéns para vocês! Perfeito, Presidente. Parabéns pela condução dos trabalhos.O milionário do PSOL veio falar aqui que eu fui visitar o meu pai no hospital portando um revólver. Primeiro, não foi revólver, mas pistola. Não sabe nem a diferença entre uma coisa e outra e quer legislar para o Brasil inteiro sobre as armas. Mas antes ter pistola na cintura do que cuecão cheio de dinheiro, como o Deputado José Rodrigues. Se não quer ser esculachado em público, é só não andar com a cueca cheia de dinheiro, só isso! Às vezes, nós temos que desabafar. Ficamos aqui o tempo inteiro quietos, para a sessão transcorrer, para que nós venhamos a votar os projetos que interessam ao Brasil, ouvindo esse tipo de coisa. Às vezes, não há como ficar ouvindo Deputado que, até ontem, estava grudado em Lula e em Dilma e que está quase indo para cadeia - talvez esteja com esse perigo, esteja com medo de ir para a cadeia - vir aqui ficar bajulando presidiário. Aí não dá, Presidente! Obrigado.']\n",
    "\n",
    "\n",
    "wc=WordCloud(use_tfidf=True,stopwords=STOP_WORDS)\n",
    "\n",
    "#somente os top 50\n",
    "#embed_code=wc.get_embed_code(text=texts,random_color=False,topn=50)\n",
    "embed_code=wc.get_embed_code(text=bozo_words,random_color=False,topn=50)\n",
    "\n",
    "HTML(embed_code)"
   ]
  },
  {
   "cell_type": "code",
   "execution_count": 21,
   "metadata": {},
   "outputs": [
    {
     "data": {
      "text/html": [
       "<div align='center' style='width:100%'><div align='center' style='text-align:justify; border-radius: 25px;background: #fff7f7;overflow: auto; width:500px !important; padding:20px; '; text-align: center; word-wrap: break-word;> <span style='color:#a55571;font-size:0.65em;white-space: normal;font-family:verdana;display: inline-block;line-height:30px'>pra&nbsp;</span> <span style='color:#a55571;font-size:0.65em;white-space: normal;font-family:verdana;display: inline-block;line-height:30px'>contratação&nbsp;</span> <span style='color:#a55571;font-size:0.65em;white-space: normal;font-family:verdana;display: inline-block;line-height:30px'>voto&nbsp;</span> <span style='color:#bc72d0;font-size:0.8em;white-space: normal;font-family:verdana;display: inline-block;line-height:30px'>jovens&nbsp;</span> <span style='color:#a55571;font-size:0.65em;white-space: normal;font-family:verdana;display: inline-block;line-height:30px'>vo&nbsp;</span> <span style='color:#8000FF;font-size:0.9500000000000001em;white-space: normal;font-family:verdana;display: inline-block;line-height:30px'>presidente&nbsp;</span> <span style='color:#bc72d0;font-size:0.8em;white-space: normal;font-family:verdana;display: inline-block;line-height:30px'>golpe&nbsp;</span> <span style='color:#a55571;font-size:0.65em;white-space: normal;font-family:verdana;display: inline-block;line-height:30px'>urgente&nbsp;</span> <span style='color:#8000FF;font-size:0.9500000000000001em;white-space: normal;font-family:verdana;display: inline-block;line-height:30px'>partido&nbsp;</span> <span style='color:#bc72d0;font-size:0.8em;white-space: normal;font-family:verdana;display: inline-block;line-height:30px'>caralho&nbsp;</span> <span style='color:#a55571;font-size:0.65em;white-space: normal;font-family:verdana;display: inline-block;line-height:30px'>nta&nbsp;</span> <span style='color:#bc72d0;font-size:0.8em;white-space: normal;font-family:verdana;display: inline-block;line-height:30px'>segurança&nbsp;</span> <span style='color:#bc72d0;font-size:0.8em;white-space: normal;font-family:verdana;display: inline-block;line-height:30px'>brazilfight&nbsp;</span> <span style='color:#3498DB;font-size:1.1em;white-space: normal;font-family:verdana;display: inline-block;line-height:30px'>https&nbsp;</span> <span style='color:#a55571;font-size:0.65em;white-space: normal;font-family:verdana;display: inline-block;line-height:30px'>jairbolsonaro&nbsp;</span> <span style='color:#bc72d0;font-size:0.8em;white-space: normal;font-family:verdana;display: inline-block;line-height:30px'>ser&nbsp;</span> <span style='color:#bc72d0;font-size:0.8em;white-space: normal;font-family:verdana;display: inline-block;line-height:30px'>carlos&nbsp;</span> <span style='color:#a55571;font-size:0.65em;white-space: normal;font-family:verdana;display: inline-block;line-height:30px'>gol&nbsp;</span> <span style='color:#8000FF;font-size:0.9500000000000001em;white-space: normal;font-family:verdana;display: inline-block;line-height:30px'>lula&nbsp;</span> <span style='color:#a55571;font-size:0.65em;white-space: normal;font-family:verdana;display: inline-block;line-height:30px'>postando&nbsp;</span> <span style='color:#bc72d0;font-size:0.8em;white-space: normal;font-family:verdana;display: inline-block;line-height:30px'>lei&nbsp;</span> <span style='color:#bc72d0;font-size:0.8em;white-space: normal;font-family:verdana;display: inline-block;line-height:30px'>reunião&nbsp;</span> <span style='color:#bc72d0;font-size:0.8em;white-space: normal;font-family:verdana;display: inline-block;line-height:30px'>sobre&nbsp;</span> <span style='color:#bc72d0;font-size:0.8em;white-space: normal;font-family:verdana;display: inline-block;line-height:30px'>jair&nbsp;</span> <span style='color:#a55571;font-size:0.65em;white-space: normal;font-family:verdana;display: inline-block;line-height:30px'>verde&nbsp;</span> <span style='color:#bc72d0;font-size:0.8em;white-space: normal;font-family:verdana;display: inline-block;line-height:30px'>diz&nbsp;</span> <span style='color:#a55571;font-size:0.65em;white-space: normal;font-family:verdana;display: inline-block;line-height:30px'>incentivar&nbsp;</span> <span style='color:#a55571;font-size:0.65em;white-space: normal;font-family:verdana;display: inline-block;line-height:30px'>novo&nbsp;</span> <span style='color:#a55571;font-size:0.65em;white-space: normal;font-family:verdana;display: inline-block;line-height:30px'>acontecendo&nbsp;</span> <span style='color:#ACB02E;font-size:2.1499999999999995em;white-space: normal;font-family:verdana;display: inline-block;line-height:30px'>bolsonaro&nbsp;</span> <span style='color:#bc72d0;font-size:0.8em;white-space: normal;font-family:verdana;display: inline-block;line-height:30px'>vai&nbsp;</span> <span style='color:#a55571;font-size:0.65em;white-space: normal;font-family:verdana;display: inline-block;line-height:30px'>saída&nbsp;</span> <span style='color:#a55571;font-size:0.65em;white-space: normal;font-family:verdana;display: inline-block;line-height:30px'>aí&nbsp;</span> <span style='color:#ACB02E;font-size:2.1499999999999995em;white-space: normal;font-family:verdana;display: inline-block;line-height:30px'>rt&nbsp;</span> <span style='color:#bc72d0;font-size:0.8em;white-space: normal;font-family:verdana;display: inline-block;line-height:30px'>nacional&nbsp;</span> <span style='color:#8000FF;font-size:0.9500000000000001em;white-space: normal;font-family:verdana;display: inline-block;line-height:30px'>brasil&nbsp;</span> <span style='color:#a55571;font-size:0.65em;white-space: normal;font-family:verdana;display: inline-block;line-height:30px'>idiota&nbsp;</span> <span style='color:#bc72d0;font-size:0.8em;white-space: normal;font-family:verdana;display: inline-block;line-height:30px'>porra&nbsp;</span> <span style='color:#a55571;font-size:0.65em;white-space: normal;font-family:verdana;display: inline-block;line-height:30px'>fodase&nbsp;</span> <span style='color:#bc72d0;font-size:0.8em;white-space: normal;font-family:verdana;display: inline-block;line-height:30px'>governo&nbsp;</span> <span style='color:#bc72d0;font-size:0.8em;white-space: normal;font-family:verdana;display: inline-block;line-height:30px'>bolívia&nbsp;</span> <span style='color:#bc72d0;font-size:0.8em;white-space: normal;font-family:verdana;display: inline-block;line-height:30px'>programa&nbsp;</span> <span style='color:#8000FF;font-size:0.9500000000000001em;white-space: normal;font-family:verdana;display: inline-block;line-height:30px'>psl&nbsp;</span> <span style='color:#bc72d0;font-size:0.8em;white-space: normal;font-family:verdana;display: inline-block;line-height:30px'>isentoes2&nbsp;</span> <span style='color:#a55571;font-size:0.65em;white-space: normal;font-family:verdana;display: inline-block;line-height:30px'>_remina&nbsp;</span> <span style='color:#a55571;font-size:0.65em;white-space: normal;font-family:verdana;display: inline-block;line-height:30px'>visa&nbsp;</span> <span style='color:#FF5733;font-size:1.25em;white-space: normal;font-family:verdana;display: inline-block;line-height:30px'>co&nbsp;</span> <span style='color:#bc72d0;font-size:0.8em;white-space: normal;font-family:verdana;display: inline-block;line-height:30px'>foto&nbsp;</span> <span style='color:#a55571;font-size:0.65em;white-space: normal;font-family:verdana;display: inline-block;line-height:30px'>onde&nbsp;</span> <span style='color:#bc72d0;font-size:0.8em;white-space: normal;font-family:verdana;display: inline-block;line-height:30px'>contra&nbsp;</span></div></div>"
      ],
      "text/plain": [
       "<IPython.core.display.HTML object>"
      ]
     },
     "execution_count": 21,
     "metadata": {},
     "output_type": "execute_result"
    }
   ],
   "source": [
    "stopwords = nltk.corpus.stopwords.words('portuguese')\n",
    "wc=WordCloud(use_tfidf=True,stopwords=stopwords)\n",
    "\n",
    "#somente os top 50\n",
    "#embed_code=wc.get_embed_code(text=texts,random_color=False,topn=50)\n",
    "embed_code=wc.get_embed_code(text=bozo_words,random_color=False,topn=50)\n",
    "\n",
    "HTML(embed_code)"
   ]
  },
  {
   "cell_type": "code",
   "execution_count": 26,
   "metadata": {},
   "outputs": [
    {
     "data": {
      "text/html": [
       "<div>\n",
       "<style scoped>\n",
       "    .dataframe tbody tr th:only-of-type {\n",
       "        vertical-align: middle;\n",
       "    }\n",
       "\n",
       "    .dataframe tbody tr th {\n",
       "        vertical-align: top;\n",
       "    }\n",
       "\n",
       "    .dataframe thead th {\n",
       "        text-align: right;\n",
       "    }\n",
       "</style>\n",
       "<table border=\"1\" class=\"dataframe\">\n",
       "  <thead>\n",
       "    <tr style=\"text-align: right;\">\n",
       "      <th></th>\n",
       "      <th>twittes</th>\n",
       "    </tr>\n",
       "  </thead>\n",
       "  <tbody>\n",
       "    <tr>\n",
       "      <th>0</th>\n",
       "      <td>' RT @MarcosQuezado1: Soltura de Lula causou ...</td>\n",
       "    </tr>\n",
       "    <tr>\n",
       "      <th>1</th>\n",
       "      <td>' RT @carteiroreaca: Fui notificado pela dire...</td>\n",
       "    </tr>\n",
       "    <tr>\n",
       "      <th>2</th>\n",
       "      <td>' Bolsonaro edita medida provisória que extin...</td>\n",
       "    </tr>\n",
       "    <tr>\n",
       "      <th>3</th>\n",
       "      <td>' RT @CarlaValente_17: ??? Parte 1\\nOvacionad...</td>\n",
       "    </tr>\n",
       "    <tr>\n",
       "      <th>4</th>\n",
       "      <td>' RT @BolsonaroSP: Muito se fala que o Nordes...</td>\n",
       "    </tr>\n",
       "  </tbody>\n",
       "</table>\n",
       "</div>"
      ],
      "text/plain": [
       "                                             twittes\n",
       "0   ' RT @MarcosQuezado1: Soltura de Lula causou ...\n",
       "1   ' RT @carteiroreaca: Fui notificado pela dire...\n",
       "2   ' Bolsonaro edita medida provisória que extin...\n",
       "3   ' RT @CarlaValente_17: ??? Parte 1\\nOvacionad...\n",
       "4   ' RT @BolsonaroSP: Muito se fala que o Nordes..."
      ]
     },
     "execution_count": 26,
     "metadata": {},
     "output_type": "execute_result"
    }
   ],
   "source": [
    "df.columns = ['twittes']\n",
    "df_bozo=df\n",
    "df_bozo.head()"
   ]
  },
  {
   "cell_type": "markdown",
   "metadata": {
    "scrolled": true
   },
   "source": [
    "df2.columns = ['twittes']\n",
    "df2.head()\n",
    "df_bozo=df2\n",
    "df_bozo.head()"
   ]
  },
  {
   "cell_type": "code",
   "execution_count": 27,
   "metadata": {},
   "outputs": [
    {
     "data": {
      "text/plain": [
       "9999"
      ]
     },
     "execution_count": 27,
     "metadata": {},
     "output_type": "execute_result"
    }
   ],
   "source": [
    "len(df_bozo)"
   ]
  },
  {
   "cell_type": "code",
   "execution_count": 29,
   "metadata": {},
   "outputs": [
    {
     "data": {
      "text/plain": [
       "146    5042\n",
       "145    1274\n",
       "94      315\n",
       "139     204\n",
       "123     202\n",
       "Name: twittes, dtype: int64"
      ]
     },
     "execution_count": 29,
     "metadata": {},
     "output_type": "execute_result"
    }
   ],
   "source": [
    "# conta os caracteres\n",
    "df_bozo.twittes.map(len).value_counts().head()"
   ]
  },
  {
   "cell_type": "code",
   "execution_count": 30,
   "metadata": {},
   "outputs": [],
   "source": [
    "# Importação seaborn para visualização de dados\n",
    "import matplotlib.pyplot as plt\n",
    "import seaborn as sns\n",
    "\n",
    "sns.set_style('white')\n",
    "sns.set_palette('dark')\n",
    "sns.set_context('talk')\n",
    "\n",
    "%matplotlib inline"
   ]
  },
  {
   "cell_type": "code",
   "execution_count": 35,
   "metadata": {},
   "outputs": [
    {
     "data": {
      "image/png": "[encoded data removed]",
      "text/plain": [
       "<Figure size 432x288 with 1 Axes>"
      ]
     },
     "metadata": {
      "needs_background": "light"
     },
     "output_type": "display_data"
    }
   ],
   "source": [
    "# Isso cria um histograma de todos os comprimentos da revisão\n",
    "ax = df_bozo.twittes.map(len).hist(bins=15)\n",
    "ax.set(xlabel='Comprimento da revisão', ylabel='Frequency', title='Distribuição do comprimento');"
   ]
  },
  {
   "cell_type": "code",
   "execution_count": 41,
   "metadata": {},
   "outputs": [
    {
     "data": {
      "text/html": [
       "<div>\n",
       "<style scoped>\n",
       "    .dataframe tbody tr th:only-of-type {\n",
       "        vertical-align: middle;\n",
       "    }\n",
       "\n",
       "    .dataframe tbody tr th {\n",
       "        vertical-align: top;\n",
       "    }\n",
       "\n",
       "    .dataframe thead th {\n",
       "        text-align: right;\n",
       "    }\n",
       "</style>\n",
       "<table border=\"1\" class=\"dataframe\">\n",
       "  <thead>\n",
       "    <tr style=\"text-align: right;\">\n",
       "      <th></th>\n",
       "      <th>twittes</th>\n",
       "      <th>twittes2</th>\n",
       "    </tr>\n",
       "  </thead>\n",
       "  <tbody>\n",
       "    <tr>\n",
       "      <th>0</th>\n",
       "      <td>' RT @MarcosQuezado1: Soltura de Lula causou ...</td>\n",
       "      <td>' rt @ : soltura de lula causou oscilações na...</td>\n",
       "    </tr>\n",
       "    <tr>\n",
       "      <th>1</th>\n",
       "      <td>' RT @carteiroreaca: Fui notificado pela dire...</td>\n",
       "      <td>' rt @carteiroreaca: fui notificado pela dire...</td>\n",
       "    </tr>\n",
       "    <tr>\n",
       "      <th>2</th>\n",
       "      <td>' Bolsonaro edita medida provisória que extin...</td>\n",
       "      <td>' bolsonaro edita medida provisória que extin...</td>\n",
       "    </tr>\n",
       "    <tr>\n",
       "      <th>3</th>\n",
       "      <td>' RT @CarlaValente_17: ??? Parte 1\\nOvacionad...</td>\n",
       "      <td>' rt @ : ??? parte  \\novacionado! presidente ...</td>\n",
       "    </tr>\n",
       "    <tr>\n",
       "      <th>4</th>\n",
       "      <td>' RT @BolsonaroSP: Muito se fala que o Nordes...</td>\n",
       "      <td>' rt @bolsonarosp: muito se fala que o nordes...</td>\n",
       "    </tr>\n",
       "  </tbody>\n",
       "</table>\n",
       "</div>"
      ],
      "text/plain": [
       "                                             twittes  \\\n",
       "0   ' RT @MarcosQuezado1: Soltura de Lula causou ...   \n",
       "1   ' RT @carteiroreaca: Fui notificado pela dire...   \n",
       "2   ' Bolsonaro edita medida provisória que extin...   \n",
       "3   ' RT @CarlaValente_17: ??? Parte 1\\nOvacionad...   \n",
       "4   ' RT @BolsonaroSP: Muito se fala que o Nordes...   \n",
       "\n",
       "                                            twittes2  \n",
       "0   ' rt @ : soltura de lula causou oscilações na...  \n",
       "1   ' rt @carteiroreaca: fui notificado pela dire...  \n",
       "2   ' bolsonaro edita medida provisória que extin...  \n",
       "3   ' rt @ : ??? parte  \\novacionado! presidente ...  \n",
       "4   ' rt @bolsonarosp: muito se fala que o nordes...  "
      ]
     },
     "execution_count": 41,
     "metadata": {},
     "output_type": "execute_result"
    }
   ],
   "source": [
    "# Essa expressão regular remove todas as palavras com números e também torna todas as palavras em minúsculas\n",
    "import re\n",
    "\n",
    "lower_alpha = lambda x: re.sub(r\"\"\"\\w*\\d\\w*\"\"\", ' ', x.lower())\n",
    "df_bozo['twittes2'] = df_bozo.twittes.map(lower_alpha)\n",
    "\n",
    "df_bozo.head()\n"
   ]
  },
  {
   "cell_type": "code",
   "execution_count": 45,
   "metadata": {},
   "outputs": [
    {
     "data": {
      "text/html": [
       "<div>\n",
       "<style scoped>\n",
       "    .dataframe tbody tr th:only-of-type {\n",
       "        vertical-align: middle;\n",
       "    }\n",
       "\n",
       "    .dataframe tbody tr th {\n",
       "        vertical-align: top;\n",
       "    }\n",
       "\n",
       "    .dataframe thead th {\n",
       "        text-align: right;\n",
       "    }\n",
       "</style>\n",
       "<table border=\"1\" class=\"dataframe\">\n",
       "  <thead>\n",
       "    <tr style=\"text-align: right;\">\n",
       "      <th></th>\n",
       "      <th>twittes</th>\n",
       "      <th>twittes2</th>\n",
       "      <th>twittes3</th>\n",
       "    </tr>\n",
       "  </thead>\n",
       "  <tbody>\n",
       "    <tr>\n",
       "      <th>0</th>\n",
       "      <td>' RT @MarcosQuezado1: Soltura de Lula causou ...</td>\n",
       "      <td>' rt @ : soltura de lula causou oscilações na...</td>\n",
       "      <td>' @ : soltura de lula causou oscilações na bo...</td>\n",
       "    </tr>\n",
       "    <tr>\n",
       "      <th>1</th>\n",
       "      <td>' RT @carteiroreaca: Fui notificado pela dire...</td>\n",
       "      <td>' rt @carteiroreaca: fui notificado pela dire...</td>\n",
       "      <td>' @carteiroreaca: fui notificado pela direção...</td>\n",
       "    </tr>\n",
       "    <tr>\n",
       "      <th>2</th>\n",
       "      <td>' Bolsonaro edita medida provisória que extin...</td>\n",
       "      <td>' bolsonaro edita medida provisória que extin...</td>\n",
       "      <td>' bolsonaro edita medida provisória que extin...</td>\n",
       "    </tr>\n",
       "    <tr>\n",
       "      <th>3</th>\n",
       "      <td>' RT @CarlaValente_17: ??? Parte 1\\nOvacionad...</td>\n",
       "      <td>' rt @ : ??? parte  \\novacionado! presidente ...</td>\n",
       "      <td>' @ : ??? parte  \\novacionado! presidente bol...</td>\n",
       "    </tr>\n",
       "    <tr>\n",
       "      <th>4</th>\n",
       "      <td>' RT @BolsonaroSP: Muito se fala que o Nordes...</td>\n",
       "      <td>' rt @bolsonarosp: muito se fala que o nordes...</td>\n",
       "      <td>' @bolsonarosp: muito se fala que o nordeste ...</td>\n",
       "    </tr>\n",
       "  </tbody>\n",
       "</table>\n",
       "</div>"
      ],
      "text/plain": [
       "                                             twittes  \\\n",
       "0   ' RT @MarcosQuezado1: Soltura de Lula causou ...   \n",
       "1   ' RT @carteiroreaca: Fui notificado pela dire...   \n",
       "2   ' Bolsonaro edita medida provisória que extin...   \n",
       "3   ' RT @CarlaValente_17: ??? Parte 1\\nOvacionad...   \n",
       "4   ' RT @BolsonaroSP: Muito se fala que o Nordes...   \n",
       "\n",
       "                                            twittes2  \\\n",
       "0   ' rt @ : soltura de lula causou oscilações na...   \n",
       "1   ' rt @carteiroreaca: fui notificado pela dire...   \n",
       "2   ' bolsonaro edita medida provisória que extin...   \n",
       "3   ' rt @ : ??? parte  \\novacionado! presidente ...   \n",
       "4   ' rt @bolsonarosp: muito se fala que o nordes...   \n",
       "\n",
       "                                            twittes3  \n",
       "0   ' @ : soltura de lula causou oscilações na bo...  \n",
       "1   ' @carteiroreaca: fui notificado pela direção...  \n",
       "2   ' bolsonaro edita medida provisória que extin...  \n",
       "3   ' @ : ??? parte  \\novacionado! presidente bol...  \n",
       "4   ' @bolsonarosp: muito se fala que o nordeste ...  "
      ]
     },
     "execution_count": 45,
     "metadata": {},
     "output_type": "execute_result"
    }
   ],
   "source": [
    "lower_alpha = lambda x: re.sub(r\"\"\" rt \"\"\", ' ', x.lower())\n",
    "df_bozo['twittes3'] = df_bozo.twittes2.map(lower_alpha)\n",
    "df_bozo.head()"
   ]
  },
  {
   "cell_type": "code",
   "execution_count": 46,
   "metadata": {},
   "outputs": [
    {
     "data": {
      "text/html": [
       "<div>\n",
       "<style scoped>\n",
       "    .dataframe tbody tr th:only-of-type {\n",
       "        vertical-align: middle;\n",
       "    }\n",
       "\n",
       "    .dataframe tbody tr th {\n",
       "        vertical-align: top;\n",
       "    }\n",
       "\n",
       "    .dataframe thead th {\n",
       "        text-align: right;\n",
       "    }\n",
       "</style>\n",
       "<table border=\"1\" class=\"dataframe\">\n",
       "  <thead>\n",
       "    <tr style=\"text-align: right;\">\n",
       "      <th></th>\n",
       "      <th>twittes</th>\n",
       "      <th>twittes2</th>\n",
       "      <th>twittes3</th>\n",
       "    </tr>\n",
       "  </thead>\n",
       "  <tbody>\n",
       "    <tr>\n",
       "      <th>0</th>\n",
       "      <td>' RT @MarcosQuezado1: Soltura de Lula causou ...</td>\n",
       "      <td>' rt @ : soltura de lula causou oscilações na...</td>\n",
       "      <td>' : soltura de lula causou oscilações na bols...</td>\n",
       "    </tr>\n",
       "    <tr>\n",
       "      <th>1</th>\n",
       "      <td>' RT @carteiroreaca: Fui notificado pela dire...</td>\n",
       "      <td>' rt @carteiroreaca: fui notificado pela dire...</td>\n",
       "      <td>' @carteiroreaca: fui notificado pela direção...</td>\n",
       "    </tr>\n",
       "    <tr>\n",
       "      <th>2</th>\n",
       "      <td>' Bolsonaro edita medida provisória que extin...</td>\n",
       "      <td>' bolsonaro edita medida provisória que extin...</td>\n",
       "      <td>' bolsonaro edita medida provisória que extin...</td>\n",
       "    </tr>\n",
       "    <tr>\n",
       "      <th>3</th>\n",
       "      <td>' RT @CarlaValente_17: ??? Parte 1\\nOvacionad...</td>\n",
       "      <td>' rt @ : ??? parte  \\novacionado! presidente ...</td>\n",
       "      <td>' : ??? parte  \\novacionado! presidente bolso...</td>\n",
       "    </tr>\n",
       "    <tr>\n",
       "      <th>4</th>\n",
       "      <td>' RT @BolsonaroSP: Muito se fala que o Nordes...</td>\n",
       "      <td>' rt @bolsonarosp: muito se fala que o nordes...</td>\n",
       "      <td>' @bolsonarosp: muito se fala que o nordeste ...</td>\n",
       "    </tr>\n",
       "  </tbody>\n",
       "</table>\n",
       "</div>"
      ],
      "text/plain": [
       "                                             twittes  \\\n",
       "0   ' RT @MarcosQuezado1: Soltura de Lula causou ...   \n",
       "1   ' RT @carteiroreaca: Fui notificado pela dire...   \n",
       "2   ' Bolsonaro edita medida provisória que extin...   \n",
       "3   ' RT @CarlaValente_17: ??? Parte 1\\nOvacionad...   \n",
       "4   ' RT @BolsonaroSP: Muito se fala que o Nordes...   \n",
       "\n",
       "                                            twittes2  \\\n",
       "0   ' rt @ : soltura de lula causou oscilações na...   \n",
       "1   ' rt @carteiroreaca: fui notificado pela dire...   \n",
       "2   ' bolsonaro edita medida provisória que extin...   \n",
       "3   ' rt @ : ??? parte  \\novacionado! presidente ...   \n",
       "4   ' rt @bolsonarosp: muito se fala que o nordes...   \n",
       "\n",
       "                                            twittes3  \n",
       "0   ' : soltura de lula causou oscilações na bols...  \n",
       "1   ' @carteiroreaca: fui notificado pela direção...  \n",
       "2   ' bolsonaro edita medida provisória que extin...  \n",
       "3   ' : ??? parte  \\novacionado! presidente bolso...  \n",
       "4   ' @bolsonarosp: muito se fala que o nordeste ...  "
      ]
     },
     "execution_count": 46,
     "metadata": {},
     "output_type": "execute_result"
    }
   ],
   "source": [
    "lower_alpha = lambda x: re.sub(r\"\"\" @ \"\"\", ' ', x.lower())\n",
    "df_bozo['twittes3'] = df_bozo.twittes3.map(lower_alpha)\n",
    "df_bozo.head()"
   ]
  },
  {
   "cell_type": "code",
   "execution_count": 47,
   "metadata": {},
   "outputs": [
    {
     "data": {
      "text/html": [
       "<div>\n",
       "<style scoped>\n",
       "    .dataframe tbody tr th:only-of-type {\n",
       "        vertical-align: middle;\n",
       "    }\n",
       "\n",
       "    .dataframe tbody tr th {\n",
       "        vertical-align: top;\n",
       "    }\n",
       "\n",
       "    .dataframe thead th {\n",
       "        text-align: right;\n",
       "    }\n",
       "</style>\n",
       "<table border=\"1\" class=\"dataframe\">\n",
       "  <thead>\n",
       "    <tr style=\"text-align: right;\">\n",
       "      <th></th>\n",
       "      <th>twittes</th>\n",
       "      <th>twittes2</th>\n",
       "      <th>twittes3</th>\n",
       "    </tr>\n",
       "  </thead>\n",
       "  <tbody>\n",
       "    <tr>\n",
       "      <th>0</th>\n",
       "      <td>' RT @MarcosQuezado1: Soltura de Lula causou ...</td>\n",
       "      <td>' rt @ : soltura de lula causou oscilações na...</td>\n",
       "      <td>' : soltura de lula causou oscilações na bols...</td>\n",
       "    </tr>\n",
       "    <tr>\n",
       "      <th>1</th>\n",
       "      <td>' RT @carteiroreaca: Fui notificado pela dire...</td>\n",
       "      <td>' rt @carteiroreaca: fui notificado pela dire...</td>\n",
       "      <td>'  carteiroreaca: fui notificado pela direção...</td>\n",
       "    </tr>\n",
       "    <tr>\n",
       "      <th>2</th>\n",
       "      <td>' Bolsonaro edita medida provisória que extin...</td>\n",
       "      <td>' bolsonaro edita medida provisória que extin...</td>\n",
       "      <td>' bolsonaro edita medida provisória que extin...</td>\n",
       "    </tr>\n",
       "    <tr>\n",
       "      <th>3</th>\n",
       "      <td>' RT @CarlaValente_17: ??? Parte 1\\nOvacionad...</td>\n",
       "      <td>' rt @ : ??? parte  \\novacionado! presidente ...</td>\n",
       "      <td>' : ??? parte  \\novacionado! presidente bolso...</td>\n",
       "    </tr>\n",
       "    <tr>\n",
       "      <th>4</th>\n",
       "      <td>' RT @BolsonaroSP: Muito se fala que o Nordes...</td>\n",
       "      <td>' rt @bolsonarosp: muito se fala que o nordes...</td>\n",
       "      <td>'  bolsonarosp: muito se fala que o nordeste ...</td>\n",
       "    </tr>\n",
       "  </tbody>\n",
       "</table>\n",
       "</div>"
      ],
      "text/plain": [
       "                                             twittes  \\\n",
       "0   ' RT @MarcosQuezado1: Soltura de Lula causou ...   \n",
       "1   ' RT @carteiroreaca: Fui notificado pela dire...   \n",
       "2   ' Bolsonaro edita medida provisória que extin...   \n",
       "3   ' RT @CarlaValente_17: ??? Parte 1\\nOvacionad...   \n",
       "4   ' RT @BolsonaroSP: Muito se fala que o Nordes...   \n",
       "\n",
       "                                            twittes2  \\\n",
       "0   ' rt @ : soltura de lula causou oscilações na...   \n",
       "1   ' rt @carteiroreaca: fui notificado pela dire...   \n",
       "2   ' bolsonaro edita medida provisória que extin...   \n",
       "3   ' rt @ : ??? parte  \\novacionado! presidente ...   \n",
       "4   ' rt @bolsonarosp: muito se fala que o nordes...   \n",
       "\n",
       "                                            twittes3  \n",
       "0   ' : soltura de lula causou oscilações na bols...  \n",
       "1   '  carteiroreaca: fui notificado pela direção...  \n",
       "2   ' bolsonaro edita medida provisória que extin...  \n",
       "3   ' : ??? parte  \\novacionado! presidente bolso...  \n",
       "4   '  bolsonarosp: muito se fala que o nordeste ...  "
      ]
     },
     "execution_count": 47,
     "metadata": {},
     "output_type": "execute_result"
    }
   ],
   "source": [
    "lower_alpha = lambda x: re.sub(r\"\"\"@\"\"\", ' ', x.lower())\n",
    "df_bozo['twittes3'] = df_bozo.twittes3.map(lower_alpha)\n",
    "df_bozo.head()"
   ]
  },
  {
   "cell_type": "code",
   "execution_count": 48,
   "metadata": {},
   "outputs": [
    {
     "data": {
      "text/html": [
       "<div>\n",
       "<style scoped>\n",
       "    .dataframe tbody tr th:only-of-type {\n",
       "        vertical-align: middle;\n",
       "    }\n",
       "\n",
       "    .dataframe tbody tr th {\n",
       "        vertical-align: top;\n",
       "    }\n",
       "\n",
       "    .dataframe thead th {\n",
       "        text-align: right;\n",
       "    }\n",
       "</style>\n",
       "<table border=\"1\" class=\"dataframe\">\n",
       "  <thead>\n",
       "    <tr style=\"text-align: right;\">\n",
       "      <th></th>\n",
       "      <th>twittes</th>\n",
       "      <th>twittes2</th>\n",
       "      <th>twittes3</th>\n",
       "      <th>twittes4</th>\n",
       "    </tr>\n",
       "  </thead>\n",
       "  <tbody>\n",
       "    <tr>\n",
       "      <th>0</th>\n",
       "      <td>' RT @MarcosQuezado1: Soltura de Lula causou ...</td>\n",
       "      <td>' rt @ : soltura de lula causou oscilações na...</td>\n",
       "      <td>' : soltura de lula causou oscilações na bols...</td>\n",
       "      <td>soltura de lula causou oscilações na bols...</td>\n",
       "    </tr>\n",
       "    <tr>\n",
       "      <th>1</th>\n",
       "      <td>' RT @carteiroreaca: Fui notificado pela dire...</td>\n",
       "      <td>' rt @carteiroreaca: fui notificado pela dire...</td>\n",
       "      <td>'  carteiroreaca: fui notificado pela direção...</td>\n",
       "      <td>carteiroreaca  fui notificado pela direção...</td>\n",
       "    </tr>\n",
       "    <tr>\n",
       "      <th>2</th>\n",
       "      <td>' Bolsonaro edita medida provisória que extin...</td>\n",
       "      <td>' bolsonaro edita medida provisória que extin...</td>\n",
       "      <td>' bolsonaro edita medida provisória que extin...</td>\n",
       "      <td>bolsonaro edita medida provisória que extin...</td>\n",
       "    </tr>\n",
       "    <tr>\n",
       "      <th>3</th>\n",
       "      <td>' RT @CarlaValente_17: ??? Parte 1\\nOvacionad...</td>\n",
       "      <td>' rt @ : ??? parte  \\novacionado! presidente ...</td>\n",
       "      <td>' : ??? parte  \\novacionado! presidente bolso...</td>\n",
       "      <td>parte  \\novacionado  presidente bolso...</td>\n",
       "    </tr>\n",
       "    <tr>\n",
       "      <th>4</th>\n",
       "      <td>' RT @BolsonaroSP: Muito se fala que o Nordes...</td>\n",
       "      <td>' rt @bolsonarosp: muito se fala que o nordes...</td>\n",
       "      <td>'  bolsonarosp: muito se fala que o nordeste ...</td>\n",
       "      <td>bolsonarosp  muito se fala que o nordeste ...</td>\n",
       "    </tr>\n",
       "  </tbody>\n",
       "</table>\n",
       "</div>"
      ],
      "text/plain": [
       "                                             twittes  \\\n",
       "0   ' RT @MarcosQuezado1: Soltura de Lula causou ...   \n",
       "1   ' RT @carteiroreaca: Fui notificado pela dire...   \n",
       "2   ' Bolsonaro edita medida provisória que extin...   \n",
       "3   ' RT @CarlaValente_17: ??? Parte 1\\nOvacionad...   \n",
       "4   ' RT @BolsonaroSP: Muito se fala que o Nordes...   \n",
       "\n",
       "                                            twittes2  \\\n",
       "0   ' rt @ : soltura de lula causou oscilações na...   \n",
       "1   ' rt @carteiroreaca: fui notificado pela dire...   \n",
       "2   ' bolsonaro edita medida provisória que extin...   \n",
       "3   ' rt @ : ??? parte  \\novacionado! presidente ...   \n",
       "4   ' rt @bolsonarosp: muito se fala que o nordes...   \n",
       "\n",
       "                                            twittes3  \\\n",
       "0   ' : soltura de lula causou oscilações na bols...   \n",
       "1   '  carteiroreaca: fui notificado pela direção...   \n",
       "2   ' bolsonaro edita medida provisória que extin...   \n",
       "3   ' : ??? parte  \\novacionado! presidente bolso...   \n",
       "4   '  bolsonarosp: muito se fala que o nordeste ...   \n",
       "\n",
       "                                            twittes4  \n",
       "0       soltura de lula causou oscilações na bols...  \n",
       "1      carteiroreaca  fui notificado pela direção...  \n",
       "2     bolsonaro edita medida provisória que extin...  \n",
       "3           parte  \\novacionado  presidente bolso...  \n",
       "4      bolsonarosp  muito se fala que o nordeste ...  "
      ]
     },
     "execution_count": 48,
     "metadata": {},
     "output_type": "execute_result"
    }
   ],
   "source": [
    "import string\n",
    "punc_re = lambda x: re.sub('[%s]' % re.escape(string.punctuation), ' ', x)\n",
    "df_bozo['twittes4'] = df_bozo.twittes3.map(punc_re)\n",
    "df_bozo.head()"
   ]
  },
  {
   "cell_type": "code",
   "execution_count": 51,
   "metadata": {},
   "outputs": [
    {
     "name": "stderr",
     "output_type": "stream",
     "text": [
      "[nltk_data] Downloading package punkt to\n",
      "[nltk_data]     C:\\Users\\ltss062019\\AppData\\Roaming\\nltk_data...\n",
      "[nltk_data]   Package punkt is already up-to-date!\n"
     ]
    },
    {
     "data": {
      "text/html": [
       "<div>\n",
       "<style scoped>\n",
       "    .dataframe tbody tr th:only-of-type {\n",
       "        vertical-align: middle;\n",
       "    }\n",
       "\n",
       "    .dataframe tbody tr th {\n",
       "        vertical-align: top;\n",
       "    }\n",
       "\n",
       "    .dataframe thead th {\n",
       "        text-align: right;\n",
       "    }\n",
       "</style>\n",
       "<table border=\"1\" class=\"dataframe\">\n",
       "  <thead>\n",
       "    <tr style=\"text-align: right;\">\n",
       "      <th></th>\n",
       "      <th>twittes</th>\n",
       "      <th>twittes2</th>\n",
       "      <th>twittes3</th>\n",
       "      <th>twittes4</th>\n",
       "      <th>twittes5</th>\n",
       "    </tr>\n",
       "  </thead>\n",
       "  <tbody>\n",
       "    <tr>\n",
       "      <th>0</th>\n",
       "      <td>' RT @MarcosQuezado1: Soltura de Lula causou ...</td>\n",
       "      <td>' rt @ : soltura de lula causou oscilações na...</td>\n",
       "      <td>' : soltura de lula causou oscilações na bols...</td>\n",
       "      <td>soltura de lula causou oscilações na bols...</td>\n",
       "      <td>[soltura, de, lula, causou, oscilações, na, bo...</td>\n",
       "    </tr>\n",
       "    <tr>\n",
       "      <th>1</th>\n",
       "      <td>' RT @carteiroreaca: Fui notificado pela dire...</td>\n",
       "      <td>' rt @carteiroreaca: fui notificado pela dire...</td>\n",
       "      <td>'  carteiroreaca: fui notificado pela direção...</td>\n",
       "      <td>carteiroreaca  fui notificado pela direção...</td>\n",
       "      <td>[carteiroreaca, fui, notificado, pela, direção...</td>\n",
       "    </tr>\n",
       "    <tr>\n",
       "      <th>2</th>\n",
       "      <td>' Bolsonaro edita medida provisória que extin...</td>\n",
       "      <td>' bolsonaro edita medida provisória que extin...</td>\n",
       "      <td>' bolsonaro edita medida provisória que extin...</td>\n",
       "      <td>bolsonaro edita medida provisória que extin...</td>\n",
       "      <td>[bolsonaro, edita, medida, provisória, que, ex...</td>\n",
       "    </tr>\n",
       "    <tr>\n",
       "      <th>3</th>\n",
       "      <td>' RT @CarlaValente_17: ??? Parte 1\\nOvacionad...</td>\n",
       "      <td>' rt @ : ??? parte  \\novacionado! presidente ...</td>\n",
       "      <td>' : ??? parte  \\novacionado! presidente bolso...</td>\n",
       "      <td>parte  \\novacionado  presidente bolso...</td>\n",
       "      <td>[parte, ovacionado, presidente, bolsonaro, é, ...</td>\n",
       "    </tr>\n",
       "    <tr>\n",
       "      <th>4</th>\n",
       "      <td>' RT @BolsonaroSP: Muito se fala que o Nordes...</td>\n",
       "      <td>' rt @bolsonarosp: muito se fala que o nordes...</td>\n",
       "      <td>'  bolsonarosp: muito se fala que o nordeste ...</td>\n",
       "      <td>bolsonarosp  muito se fala que o nordeste ...</td>\n",
       "      <td>[bolsonarosp, muito, se, fala, que, o, nordest...</td>\n",
       "    </tr>\n",
       "  </tbody>\n",
       "</table>\n",
       "</div>"
      ],
      "text/plain": [
       "                                             twittes  \\\n",
       "0   ' RT @MarcosQuezado1: Soltura de Lula causou ...   \n",
       "1   ' RT @carteiroreaca: Fui notificado pela dire...   \n",
       "2   ' Bolsonaro edita medida provisória que extin...   \n",
       "3   ' RT @CarlaValente_17: ??? Parte 1\\nOvacionad...   \n",
       "4   ' RT @BolsonaroSP: Muito se fala que o Nordes...   \n",
       "\n",
       "                                            twittes2  \\\n",
       "0   ' rt @ : soltura de lula causou oscilações na...   \n",
       "1   ' rt @carteiroreaca: fui notificado pela dire...   \n",
       "2   ' bolsonaro edita medida provisória que extin...   \n",
       "3   ' rt @ : ??? parte  \\novacionado! presidente ...   \n",
       "4   ' rt @bolsonarosp: muito se fala que o nordes...   \n",
       "\n",
       "                                            twittes3  \\\n",
       "0   ' : soltura de lula causou oscilações na bols...   \n",
       "1   '  carteiroreaca: fui notificado pela direção...   \n",
       "2   ' bolsonaro edita medida provisória que extin...   \n",
       "3   ' : ??? parte  \\novacionado! presidente bolso...   \n",
       "4   '  bolsonarosp: muito se fala que o nordeste ...   \n",
       "\n",
       "                                            twittes4  \\\n",
       "0       soltura de lula causou oscilações na bols...   \n",
       "1      carteiroreaca  fui notificado pela direção...   \n",
       "2     bolsonaro edita medida provisória que extin...   \n",
       "3           parte  \\novacionado  presidente bolso...   \n",
       "4      bolsonarosp  muito se fala que o nordeste ...   \n",
       "\n",
       "                                            twittes5  \n",
       "0  [soltura, de, lula, causou, oscilações, na, bo...  \n",
       "1  [carteiroreaca, fui, notificado, pela, direção...  \n",
       "2  [bolsonaro, edita, medida, provisória, que, ex...  \n",
       "3  [parte, ovacionado, presidente, bolsonaro, é, ...  \n",
       "4  [bolsonarosp, muito, se, fala, que, o, nordest...  "
      ]
     },
     "execution_count": 51,
     "metadata": {},
     "output_type": "execute_result"
    }
   ],
   "source": [
    "# Tokenize as reviews em palavras\n",
    "import nltk\n",
    "nltk.download('punkt')\n",
    "from nltk.tokenize import word_tokenize\n",
    "\n",
    "df_bozo['twittes5'] = df_bozo.twittes4.map(word_tokenize)\n",
    "df_bozo.head()"
   ]
  },
  {
   "cell_type": "code",
   "execution_count": 55,
   "metadata": {},
   "outputs": [
    {
     "data": {
      "text/plain": [
       "['soltura',\n",
       " 'de',\n",
       " 'lula',\n",
       " 'causou',\n",
       " 'oscilações',\n",
       " 'na',\n",
       " 'bolsa',\n",
       " 'de',\n",
       " 'valores',\n",
       " 'diz',\n",
       " 'bolsonaro',\n",
       " 'https',\n",
       " 't',\n",
       " 'co',\n",
       " 'via']"
      ]
     },
     "execution_count": 55,
     "metadata": {},
     "output_type": "execute_result"
    }
   ],
   "source": [
    "# Isso cria uma lista enorme combinando todos os valores de tokens\n",
    "word_list = sum(df_bozo.twittes5.tolist(), [])\n",
    "\n",
    "word_list[:15]"
   ]
  },
  {
   "cell_type": "code",
   "execution_count": 61,
   "metadata": {},
   "outputs": [
    {
     "name": "stdout",
     "output_type": "stream",
     "text": [
      "<class 'list'>\n",
      "205100\n"
     ]
    },
    {
     "data": {
      "text/plain": [
       "['soltura', 'de', 'lula', 'causou', 'oscilações']"
      ]
     },
     "execution_count": 61,
     "metadata": {},
     "output_type": "execute_result"
    }
   ],
   "source": [
    "print(type(word_list))\n",
    "print(len(word_list))\n",
    "word_list[0:5]"
   ]
  },
  {
   "cell_type": "code",
   "execution_count": 62,
   "metadata": {},
   "outputs": [
    {
     "data": {
      "text/plain": [
       "[(7976, 'bolsonaro'),\n",
       " (7911, 'o'),\n",
       " (7173, 'de'),\n",
       " (5964, 'a'),\n",
       " (4789, 'do'),\n",
       " (4289, 'que'),\n",
       " (4136, 'e'),\n",
       " (2546, 'https'),\n",
       " (2528, 't'),\n",
       " (2508, 'co'),\n",
       " (2064, 'na'),\n",
       " (1948, 'um'),\n",
       " (1913, 'para'),\n",
       " (1763, 'é'),\n",
       " (1672, 'lula'),\n",
       " (1405, 'não'),\n",
       " (1365, 'presidente'),\n",
       " (1338, 'com'),\n",
       " (1294, 'no'),\n",
       " (1277, 'da')]"
      ]
     },
     "execution_count": 62,
     "metadata": {},
     "output_type": "execute_result"
    }
   ],
   "source": [
    "# Estas são as etapas para encontrar as palavras mais comuns\n",
    "\n",
    "from collections import Counter\n",
    "\n",
    "# Converte a lista em um dicionário com contagem de valores\n",
    "word_counts = Counter(word_list)\n",
    "\n",
    "# Inverter a chave / valores no dicionário para classificarReverter a chave / valores no dicionário para classificar\n",
    "word_counts = list(zip(word_counts.values(), word_counts.keys()))\n",
    "\n",
    "# Classifique a lista por contagem\n",
    "word_counts = sorted(word_counts, reverse=True)\n",
    "\n",
    "# Imprime as 10 palavras mais comuns\n",
    "word_counts[:20]"
   ]
  },
  {
   "cell_type": "code",
   "execution_count": 56,
   "metadata": {},
   "outputs": [
    {
     "data": {
      "image/png": "[encoded data removed]",
      "text/plain": [
       "<Figure size 432x288 with 1 Axes>"
      ]
     },
     "metadata": {
      "needs_background": "light"
     },
     "output_type": "display_data"
    }
   ],
   "source": [
    "# A distribuição dos comprimentos das palavras\n",
    "word_lengths = pd.Series([len(x) for x in word_list])\n",
    "\n",
    "ax = word_lengths.hist(bins=15)\n",
    "ax.set(xlabel='Word Lengths', ylabel='Frequency', title='Distribution of Word Length');"
   ]
  },
  {
   "cell_type": "code",
   "execution_count": 63,
   "metadata": {},
   "outputs": [
    {
     "name": "stderr",
     "output_type": "stream",
     "text": [
      "[nltk_data] Downloading package stopwords to\n",
      "[nltk_data]     C:\\Users\\ltss062019\\AppData\\Roaming\\nltk_data...\n",
      "[nltk_data]   Package stopwords is already up-to-date!\n"
     ]
    },
    {
     "data": {
      "text/html": [
       "<div>\n",
       "<style scoped>\n",
       "    .dataframe tbody tr th:only-of-type {\n",
       "        vertical-align: middle;\n",
       "    }\n",
       "\n",
       "    .dataframe tbody tr th {\n",
       "        vertical-align: top;\n",
       "    }\n",
       "\n",
       "    .dataframe thead th {\n",
       "        text-align: right;\n",
       "    }\n",
       "</style>\n",
       "<table border=\"1\" class=\"dataframe\">\n",
       "  <thead>\n",
       "    <tr style=\"text-align: right;\">\n",
       "      <th></th>\n",
       "      <th>twittes</th>\n",
       "      <th>twittes2</th>\n",
       "      <th>twittes3</th>\n",
       "      <th>twittes4</th>\n",
       "      <th>twittes5</th>\n",
       "      <th>tokens_stop</th>\n",
       "    </tr>\n",
       "  </thead>\n",
       "  <tbody>\n",
       "    <tr>\n",
       "      <th>0</th>\n",
       "      <td>' RT @MarcosQuezado1: Soltura de Lula causou ...</td>\n",
       "      <td>' rt @ : soltura de lula causou oscilações na...</td>\n",
       "      <td>' : soltura de lula causou oscilações na bols...</td>\n",
       "      <td>soltura de lula causou oscilações na bols...</td>\n",
       "      <td>[soltura, de, lula, causou, oscilações, na, bo...</td>\n",
       "      <td>[soltura, lula, causou, oscilações, bolsa, val...</td>\n",
       "    </tr>\n",
       "    <tr>\n",
       "      <th>1</th>\n",
       "      <td>' RT @carteiroreaca: Fui notificado pela dire...</td>\n",
       "      <td>' rt @carteiroreaca: fui notificado pela dire...</td>\n",
       "      <td>'  carteiroreaca: fui notificado pela direção...</td>\n",
       "      <td>carteiroreaca  fui notificado pela direção...</td>\n",
       "      <td>[carteiroreaca, fui, notificado, pela, direção...</td>\n",
       "      <td>[carteiroreaca, notificado, direção, nacional,...</td>\n",
       "    </tr>\n",
       "    <tr>\n",
       "      <th>2</th>\n",
       "      <td>' Bolsonaro edita medida provisória que extin...</td>\n",
       "      <td>' bolsonaro edita medida provisória que extin...</td>\n",
       "      <td>' bolsonaro edita medida provisória que extin...</td>\n",
       "      <td>bolsonaro edita medida provisória que extin...</td>\n",
       "      <td>[bolsonaro, edita, medida, provisória, que, ex...</td>\n",
       "      <td>[bolsonaro, edita, medida, provisória, extingu...</td>\n",
       "    </tr>\n",
       "    <tr>\n",
       "      <th>3</th>\n",
       "      <td>' RT @CarlaValente_17: ??? Parte 1\\nOvacionad...</td>\n",
       "      <td>' rt @ : ??? parte  \\novacionado! presidente ...</td>\n",
       "      <td>' : ??? parte  \\novacionado! presidente bolso...</td>\n",
       "      <td>parte  \\novacionado  presidente bolso...</td>\n",
       "      <td>[parte, ovacionado, presidente, bolsonaro, é, ...</td>\n",
       "      <td>[parte, ovacionado, presidente, bolsonaro, rec...</td>\n",
       "    </tr>\n",
       "    <tr>\n",
       "      <th>4</th>\n",
       "      <td>' RT @BolsonaroSP: Muito se fala que o Nordes...</td>\n",
       "      <td>' rt @bolsonarosp: muito se fala que o nordes...</td>\n",
       "      <td>'  bolsonarosp: muito se fala que o nordeste ...</td>\n",
       "      <td>bolsonarosp  muito se fala que o nordeste ...</td>\n",
       "      <td>[bolsonarosp, muito, se, fala, que, o, nordest...</td>\n",
       "      <td>[bolsonarosp, fala, nordeste, apóia, lula, pt,...</td>\n",
       "    </tr>\n",
       "  </tbody>\n",
       "</table>\n",
       "</div>"
      ],
      "text/plain": [
       "                                             twittes  \\\n",
       "0   ' RT @MarcosQuezado1: Soltura de Lula causou ...   \n",
       "1   ' RT @carteiroreaca: Fui notificado pela dire...   \n",
       "2   ' Bolsonaro edita medida provisória que extin...   \n",
       "3   ' RT @CarlaValente_17: ??? Parte 1\\nOvacionad...   \n",
       "4   ' RT @BolsonaroSP: Muito se fala que o Nordes...   \n",
       "\n",
       "                                            twittes2  \\\n",
       "0   ' rt @ : soltura de lula causou oscilações na...   \n",
       "1   ' rt @carteiroreaca: fui notificado pela dire...   \n",
       "2   ' bolsonaro edita medida provisória que extin...   \n",
       "3   ' rt @ : ??? parte  \\novacionado! presidente ...   \n",
       "4   ' rt @bolsonarosp: muito se fala que o nordes...   \n",
       "\n",
       "                                            twittes3  \\\n",
       "0   ' : soltura de lula causou oscilações na bols...   \n",
       "1   '  carteiroreaca: fui notificado pela direção...   \n",
       "2   ' bolsonaro edita medida provisória que extin...   \n",
       "3   ' : ??? parte  \\novacionado! presidente bolso...   \n",
       "4   '  bolsonarosp: muito se fala que o nordeste ...   \n",
       "\n",
       "                                            twittes4  \\\n",
       "0       soltura de lula causou oscilações na bols...   \n",
       "1      carteiroreaca  fui notificado pela direção...   \n",
       "2     bolsonaro edita medida provisória que extin...   \n",
       "3           parte  \\novacionado  presidente bolso...   \n",
       "4      bolsonarosp  muito se fala que o nordeste ...   \n",
       "\n",
       "                                            twittes5  \\\n",
       "0  [soltura, de, lula, causou, oscilações, na, bo...   \n",
       "1  [carteiroreaca, fui, notificado, pela, direção...   \n",
       "2  [bolsonaro, edita, medida, provisória, que, ex...   \n",
       "3  [parte, ovacionado, presidente, bolsonaro, é, ...   \n",
       "4  [bolsonarosp, muito, se, fala, que, o, nordest...   \n",
       "\n",
       "                                         tokens_stop  \n",
       "0  [soltura, lula, causou, oscilações, bolsa, val...  \n",
       "1  [carteiroreaca, notificado, direção, nacional,...  \n",
       "2  [bolsonaro, edita, medida, provisória, extingu...  \n",
       "3  [parte, ovacionado, presidente, bolsonaro, rec...  \n",
       "4  [bolsonarosp, fala, nordeste, apóia, lula, pt,...  "
      ]
     },
     "execution_count": 63,
     "metadata": {},
     "output_type": "execute_result"
    }
   ],
   "source": [
    "# Remova as stop words\n",
    "from nltk.corpus import stopwords\n",
    "nltk.download(\"stopwords\")\n",
    "\n",
    "stop_words = stopwords.words('portuguese')\n",
    "\n",
    "stop_lambda = lambda x: [y for y in x if y not in stop_words]\n",
    "df_bozo['tokens_stop'] = df_bozo.twittes5.apply(stop_lambda)\n",
    "df_bozo.head()"
   ]
  },
  {
   "cell_type": "code",
   "execution_count": 65,
   "metadata": {},
   "outputs": [
    {
     "data": {
      "text/plain": [
       "['soltura',\n",
       " 'lula',\n",
       " 'causou',\n",
       " 'oscilações',\n",
       " 'bolsa',\n",
       " 'valores',\n",
       " 'diz',\n",
       " 'bolsonaro',\n",
       " 'https',\n",
       " 't',\n",
       " 'co',\n",
       " 'via',\n",
       " 'renovamidia',\n",
       " 'carteiroreaca',\n",
       " 'notificado']"
      ]
     },
     "execution_count": 65,
     "metadata": {},
     "output_type": "execute_result"
    }
   ],
   "source": [
    "# Isso cria uma lista enorme combinando todos os valores de tokens\n",
    "word_list_stop = sum(df_bozo.tokens_stop.tolist(), [])\n",
    "\n",
    "word_list_stop[:15]"
   ]
  },
  {
   "cell_type": "code",
   "execution_count": 66,
   "metadata": {},
   "outputs": [
    {
     "data": {
      "text/html": [
       "<div align='center' style='width:100%'><div align='center' style='text-align:justify; border-radius: 25px;background: #fff7f7;overflow: auto; width:500px !important; padding:20px; '; text-align: center; word-wrap: break-word;> <span style='color:#8000FF;font-size:0.9500000000000001em;white-space: normal;font-family:verdana;display: inline-block;line-height:30px'>presidente&nbsp;</span> <span style='color:#8000FF;font-size:0.9500000000000001em;white-space: normal;font-family:verdana;display: inline-block;line-height:30px'>golpe&nbsp;</span> <span style='color:#bc72d0;font-size:0.8em;white-space: normal;font-family:verdana;display: inline-block;line-height:30px'>gol&nbsp;</span> <span style='color:#bc72d0;font-size:0.8em;white-space: normal;font-family:verdana;display: inline-block;line-height:30px'>verde&nbsp;</span> <span style='color:#8000FF;font-size:0.9500000000000001em;white-space: normal;font-family:verdana;display: inline-block;line-height:30px'>porra&nbsp;</span> <span style='color:#bc72d0;font-size:0.8em;white-space: normal;font-family:verdana;display: inline-block;line-height:30px'>idiota&nbsp;</span> <span style='color:#bc72d0;font-size:0.8em;white-space: normal;font-family:verdana;display: inline-block;line-height:30px'>vo&nbsp;</span> <span style='color:#8000FF;font-size:0.9500000000000001em;white-space: normal;font-family:verdana;display: inline-block;line-height:30px'>psl&nbsp;</span> <span style='color:#bc72d0;font-size:0.8em;white-space: normal;font-family:verdana;display: inline-block;line-height:30px'>carlos&nbsp;</span> <span style='color:#bc72d0;font-size:0.8em;white-space: normal;font-family:verdana;display: inline-block;line-height:30px'>pra&nbsp;</span> <span style='color:#8000FF;font-size:0.9500000000000001em;white-space: normal;font-family:verdana;display: inline-block;line-height:30px'>partido&nbsp;</span> <span style='color:#bc72d0;font-size:0.8em;white-space: normal;font-family:verdana;display: inline-block;line-height:30px'>nacional&nbsp;</span> <span style='color:#bc72d0;font-size:0.8em;white-space: normal;font-family:verdana;display: inline-block;line-height:30px'>urgente&nbsp;</span> <span style='color:#bc72d0;font-size:0.8em;white-space: normal;font-family:verdana;display: inline-block;line-height:30px'>incentivar&nbsp;</span> <span style='color:#bc72d0;font-size:0.8em;white-space: normal;font-family:verdana;display: inline-block;line-height:30px'>onde&nbsp;</span> <span style='color:#B18904;font-size:2.2999999999999994em;white-space: normal;font-family:verdana;display: inline-block;line-height:30px'>bolsonaro&nbsp;</span> <span style='color:#bc72d0;font-size:0.8em;white-space: normal;font-family:verdana;display: inline-block;line-height:30px'>reunião&nbsp;</span> <span style='color:#bc72d0;font-size:0.8em;white-space: normal;font-family:verdana;display: inline-block;line-height:30px'>programa&nbsp;</span> <span style='color:#bc72d0;font-size:0.8em;white-space: normal;font-family:verdana;display: inline-block;line-height:30px'>visa&nbsp;</span> <span style='color:#bc72d0;font-size:0.8em;white-space: normal;font-family:verdana;display: inline-block;line-height:30px'>foto&nbsp;</span> <span style='color:#bc72d0;font-size:0.8em;white-space: normal;font-family:verdana;display: inline-block;line-height:30px'>amarelo&nbsp;</span> <span style='color:#bc72d0;font-size:0.8em;white-space: normal;font-family:verdana;display: inline-block;line-height:30px'>remina&nbsp;</span> <span style='color:#FF5733;font-size:1.25em;white-space: normal;font-family:verdana;display: inline-block;line-height:30px'>https&nbsp;</span> <span style='color:#8000FF;font-size:0.9500000000000001em;white-space: normal;font-family:verdana;display: inline-block;line-height:30px'>bolívia&nbsp;</span> <span style='color:#bc72d0;font-size:0.8em;white-space: normal;font-family:verdana;display: inline-block;line-height:30px'>brazilfight&nbsp;</span> <span style='color:#bc72d0;font-size:0.8em;white-space: normal;font-family:verdana;display: inline-block;line-height:30px'>lei&nbsp;</span> <span style='color:#bc72d0;font-size:0.8em;white-space: normal;font-family:verdana;display: inline-block;line-height:30px'>grande&nbsp;</span> <span style='color:#bc72d0;font-size:0.8em;white-space: normal;font-family:verdana;display: inline-block;line-height:30px'>contra&nbsp;</span> <span style='color:#bc72d0;font-size:0.8em;white-space: normal;font-family:verdana;display: inline-block;line-height:30px'>fodase&nbsp;</span> <span style='color:#bc72d0;font-size:0.8em;white-space: normal;font-family:verdana;display: inline-block;line-height:30px'>segurança&nbsp;</span> <span style='color:#bc72d0;font-size:0.8em;white-space: normal;font-family:verdana;display: inline-block;line-height:30px'>jairbolsonaro&nbsp;</span> <span style='color:#bc72d0;font-size:0.8em;white-space: normal;font-family:verdana;display: inline-block;line-height:30px'>saída&nbsp;</span> <span style='color:#bc72d0;font-size:0.8em;white-space: normal;font-family:verdana;display: inline-block;line-height:30px'>vai&nbsp;</span> <span style='color:#bc72d0;font-size:0.8em;white-space: normal;font-family:verdana;display: inline-block;line-height:30px'>acontecendo&nbsp;</span> <span style='color:#bc72d0;font-size:0.8em;white-space: normal;font-family:verdana;display: inline-block;line-height:30px'>postando&nbsp;</span> <span style='color:#bc72d0;font-size:0.8em;white-space: normal;font-family:verdana;display: inline-block;line-height:30px'>jovens&nbsp;</span> <span style='color:#bc72d0;font-size:0.8em;white-space: normal;font-family:verdana;display: inline-block;line-height:30px'>novo&nbsp;</span> <span style='color:#bc72d0;font-size:0.8em;white-space: normal;font-family:verdana;display: inline-block;line-height:30px'>diz&nbsp;</span> <span style='color:#8000FF;font-size:0.9500000000000001em;white-space: normal;font-family:verdana;display: inline-block;line-height:30px'>brasil&nbsp;</span> <span style='color:#8000FF;font-size:0.9500000000000001em;white-space: normal;font-family:verdana;display: inline-block;line-height:30px'>caralho&nbsp;</span> <span style='color:#bc72d0;font-size:0.8em;white-space: normal;font-family:verdana;display: inline-block;line-height:30px'>ta&nbsp;</span> <span style='color:#bc72d0;font-size:0.8em;white-space: normal;font-family:verdana;display: inline-block;line-height:30px'>ser&nbsp;</span> <span style='color:#bc72d0;font-size:0.8em;white-space: normal;font-family:verdana;display: inline-block;line-height:30px'>voto&nbsp;</span> <span style='color:#bc72d0;font-size:0.8em;white-space: normal;font-family:verdana;display: inline-block;line-height:30px'>aí&nbsp;</span> <span style='color:#bc72d0;font-size:0.8em;white-space: normal;font-family:verdana;display: inline-block;line-height:30px'>jair&nbsp;</span> <span style='color:#bc72d0;font-size:0.8em;white-space: normal;font-family:verdana;display: inline-block;line-height:30px'>contratação&nbsp;</span> <span style='color:#8000FF;font-size:0.9500000000000001em;white-space: normal;font-family:verdana;display: inline-block;line-height:30px'>governo&nbsp;</span> <span style='color:#bc72d0;font-size:0.8em;white-space: normal;font-family:verdana;display: inline-block;line-height:30px'>sobre&nbsp;</span> <span style='color:#3498DB;font-size:1.1em;white-space: normal;font-family:verdana;display: inline-block;line-height:30px'>lula&nbsp;</span> <span style='color:#FF5733;font-size:1.25em;white-space: normal;font-family:verdana;display: inline-block;line-height:30px'>co&nbsp;</span></div></div>"
      ],
      "text/plain": [
       "<IPython.core.display.HTML object>"
      ]
     },
     "execution_count": 66,
     "metadata": {},
     "output_type": "execute_result"
    }
   ],
   "source": [
    "STOP_WORDS = frozenset([ 'diz', 'https', 't','co','via'])\n",
    "wc=WordCloud(use_tfidf=True,stopwords=STOP_WORDS)\n",
    "embed_code=wc.get_embed_code(text=word_list_stop,random_color=False,topn=50)\n",
    "HTML(embed_code)"
   ]
  },
  {
   "cell_type": "code",
   "execution_count": 70,
   "metadata": {},
   "outputs": [
    {
     "data": {
      "text/html": [
       "<div align='center' style='width:100%'><div align='center' style='text-align:justify; border-radius: 25px;background: #fff7f7;overflow: auto; width:500px !important; padding:20px; '; text-align: center; word-wrap: break-word;> <span style='color:#bc72d0;font-size:0.8em;white-space: normal;font-family:verdana;display: inline-block;line-height:30px'>empregos&nbsp;</span> <span style='color:#3498DB;font-size:1.1em;white-space: normal;font-family:verdana;display: inline-block;line-height:30px'>golpe&nbsp;</span> <span style='color:#bc72d0;font-size:0.8em;white-space: normal;font-family:verdana;display: inline-block;line-height:30px'>amarelo&nbsp;</span> <span style='color:#3498DB;font-size:1.1em;white-space: normal;font-family:verdana;display: inline-block;line-height:30px'>governo&nbsp;</span> <span style='color:#3498DB;font-size:1.1em;white-space: normal;font-family:verdana;display: inline-block;line-height:30px'>brasil&nbsp;</span> <span style='color:#223AE6;font-size:1.4em;white-space: normal;font-family:verdana;display: inline-block;line-height:30px'>lula&nbsp;</span> <span style='color:#8000FF;font-size:0.9500000000000001em;white-space: normal;font-family:verdana;display: inline-block;line-height:30px'>programa&nbsp;</span> <span style='color:#3498DB;font-size:1.1em;white-space: normal;font-family:verdana;display: inline-block;line-height:30px'>caralho&nbsp;</span> <span style='color:#bc72d0;font-size:0.8em;white-space: normal;font-family:verdana;display: inline-block;line-height:30px'>visa&nbsp;</span> <span style='color:#8000FF;font-size:0.9500000000000001em;white-space: normal;font-family:verdana;display: inline-block;line-height:30px'>reunião&nbsp;</span> <span style='color:#bc72d0;font-size:0.8em;white-space: normal;font-family:verdana;display: inline-block;line-height:30px'>grande&nbsp;</span> <span style='color:#bc72d0;font-size:0.8em;white-space: normal;font-family:verdana;display: inline-block;line-height:30px'>remina&nbsp;</span> <span style='color:#8000FF;font-size:0.9500000000000001em;white-space: normal;font-family:verdana;display: inline-block;line-height:30px'>vai&nbsp;</span> <span style='color:#bc72d0;font-size:0.8em;white-space: normal;font-family:verdana;display: inline-block;line-height:30px'>lançou&nbsp;</span> <span style='color:#bc72d0;font-size:0.8em;white-space: normal;font-family:verdana;display: inline-block;line-height:30px'>incentivar&nbsp;</span> <span style='color:#bc72d0;font-size:0.8em;white-space: normal;font-family:verdana;display: inline-block;line-height:30px'>impresso&nbsp;</span> <span style='color:#3498DB;font-size:1.1em;white-space: normal;font-family:verdana;display: inline-block;line-height:30px'>bolívia&nbsp;</span> <span style='color:#bc72d0;font-size:0.8em;white-space: normal;font-family:verdana;display: inline-block;line-height:30px'>voto&nbsp;</span> <span style='color:#8000FF;font-size:0.9500000000000001em;white-space: normal;font-family:verdana;display: inline-block;line-height:30px'>nacional&nbsp;</span> <span style='color:#bc72d0;font-size:0.8em;white-space: normal;font-family:verdana;display: inline-block;line-height:30px'>lei&nbsp;</span> <span style='color:#bc72d0;font-size:0.8em;white-space: normal;font-family:verdana;display: inline-block;line-height:30px'>usada&nbsp;</span> <span style='color:#bc72d0;font-size:0.8em;white-space: normal;font-family:verdana;display: inline-block;line-height:30px'>onde&nbsp;</span> <span style='color:#8000FF;font-size:0.9500000000000001em;white-space: normal;font-family:verdana;display: inline-block;line-height:30px'>sobre&nbsp;</span> <span style='color:#bc72d0;font-size:0.8em;white-space: normal;font-family:verdana;display: inline-block;line-height:30px'>verde&nbsp;</span> <span style='color:#bc72d0;font-size:0.8em;white-space: normal;font-family:verdana;display: inline-block;line-height:30px'>saída&nbsp;</span> <span style='color:#bc72d0;font-size:0.8em;white-space: normal;font-family:verdana;display: inline-block;line-height:30px'>pra&nbsp;</span> <span style='color:#bc72d0;font-size:0.8em;white-space: normal;font-family:verdana;display: inline-block;line-height:30px'>gol&nbsp;</span> <span style='color:#3498DB;font-size:1.1em;white-space: normal;font-family:verdana;display: inline-block;line-height:30px'>psl&nbsp;</span> <span style='color:#3498DB;font-size:1.1em;white-space: normal;font-family:verdana;display: inline-block;line-height:30px'>porra&nbsp;</span> <span style='color:#bc72d0;font-size:0.8em;white-space: normal;font-family:verdana;display: inline-block;line-height:30px'>dpvat&nbsp;</span> <span style='color:#bc72d0;font-size:0.8em;white-space: normal;font-family:verdana;display: inline-block;line-height:30px'>urgente&nbsp;</span> <span style='color:#bc72d0;font-size:0.8em;white-space: normal;font-family:verdana;display: inline-block;line-height:30px'>fodase&nbsp;</span> <span style='color:#bc72d0;font-size:0.8em;white-space: normal;font-family:verdana;display: inline-block;line-height:30px'>carlos&nbsp;</span> <span style='color:#bc72d0;font-size:0.8em;white-space: normal;font-family:verdana;display: inline-block;line-height:30px'>novo&nbsp;</span> <span style='color:#bc72d0;font-size:0.8em;white-space: normal;font-family:verdana;display: inline-block;line-height:30px'>gerar&nbsp;</span> <span style='color:#8000FF;font-size:0.9500000000000001em;white-space: normal;font-family:verdana;display: inline-block;line-height:30px'>jair&nbsp;</span> <span style='color:#bc72d0;font-size:0.8em;white-space: normal;font-family:verdana;display: inline-block;line-height:30px'>contra&nbsp;</span> <span style='color:#3498DB;font-size:1.1em;white-space: normal;font-family:verdana;display: inline-block;line-height:30px'>partido&nbsp;</span> <span style='color:#bc72d0;font-size:0.8em;white-space: normal;font-family:verdana;display: inline-block;line-height:30px'>foto&nbsp;</span> <span style='color:#bc72d0;font-size:0.8em;white-space: normal;font-family:verdana;display: inline-block;line-height:30px'>anunciar&nbsp;</span> <span style='color:#bc72d0;font-size:0.8em;white-space: normal;font-family:verdana;display: inline-block;line-height:30px'>idiota&nbsp;</span> <span style='color:#bc72d0;font-size:0.8em;white-space: normal;font-family:verdana;display: inline-block;line-height:30px'>busca&nbsp;</span> <span style='color:#bc72d0;font-size:0.8em;white-space: normal;font-family:verdana;display: inline-block;line-height:30px'>milhão&nbsp;</span> <span style='color:#bc72d0;font-size:0.8em;white-space: normal;font-family:verdana;display: inline-block;line-height:30px'>postando&nbsp;</span> <span style='color:#bc72d0;font-size:0.8em;white-space: normal;font-family:verdana;display: inline-block;line-height:30px'>jairbolsonaro&nbsp;</span> <span style='color:#bc72d0;font-size:0.8em;white-space: normal;font-family:verdana;display: inline-block;line-height:30px'>acontecendo&nbsp;</span> <span style='color:#bc72d0;font-size:0.8em;white-space: normal;font-family:verdana;display: inline-block;line-height:30px'>segurança&nbsp;</span> <span style='color:#bc72d0;font-size:0.8em;white-space: normal;font-family:verdana;display: inline-block;line-height:30px'>contratação&nbsp;</span> <span style='color:#bc72d0;font-size:0.8em;white-space: normal;font-family:verdana;display: inline-block;line-height:30px'>brazilfight&nbsp;</span> <span style='color:#bc72d0;font-size:0.8em;white-space: normal;font-family:verdana;display: inline-block;line-height:30px'>jovens&nbsp;</span></div></div>"
      ],
      "text/plain": [
       "<IPython.core.display.HTML object>"
      ]
     },
     "execution_count": 70,
     "metadata": {},
     "output_type": "execute_result"
    }
   ],
   "source": [
    "STOP_WORDS = frozenset([ 'diz', 'https', 't','co','via', 'bolsonaro', 'presidente', 'ta', 'aí','vo', 'ser'])\n",
    "wc=WordCloud(use_tfidf=True,stopwords=STOP_WORDS)\n",
    "embed_code=wc.get_embed_code(text=word_list_stop,random_color=False,topn=50)\n",
    "HTML(embed_code)"
   ]
  },
  {
   "cell_type": "code",
   "execution_count": 64,
   "metadata": {
    "scrolled": true
   },
   "outputs": [
    {
     "name": "stderr",
     "output_type": "stream",
     "text": [
      "[nltk_data] Downloading package averaged_perceptron_tagger to\n",
      "[nltk_data]     C:\\Users\\ltss062019\\AppData\\Roaming\\nltk_data...\n",
      "[nltk_data]   Package averaged_perceptron_tagger is already up-to-\n",
      "[nltk_data]       date!\n"
     ]
    },
    {
     "data": {
      "text/html": [
       "<div>\n",
       "<style scoped>\n",
       "    .dataframe tbody tr th:only-of-type {\n",
       "        vertical-align: middle;\n",
       "    }\n",
       "\n",
       "    .dataframe tbody tr th {\n",
       "        vertical-align: top;\n",
       "    }\n",
       "\n",
       "    .dataframe thead th {\n",
       "        text-align: right;\n",
       "    }\n",
       "</style>\n",
       "<table border=\"1\" class=\"dataframe\">\n",
       "  <thead>\n",
       "    <tr style=\"text-align: right;\">\n",
       "      <th></th>\n",
       "      <th>twittes</th>\n",
       "      <th>twittes2</th>\n",
       "      <th>twittes3</th>\n",
       "      <th>twittes4</th>\n",
       "      <th>twittes5</th>\n",
       "      <th>tokens_stop</th>\n",
       "      <th>tokens_pos</th>\n",
       "    </tr>\n",
       "  </thead>\n",
       "  <tbody>\n",
       "    <tr>\n",
       "      <th>0</th>\n",
       "      <td>' RT @MarcosQuezado1: Soltura de Lula causou ...</td>\n",
       "      <td>' rt @ : soltura de lula causou oscilações na...</td>\n",
       "      <td>' : soltura de lula causou oscilações na bols...</td>\n",
       "      <td>soltura de lula causou oscilações na bols...</td>\n",
       "      <td>[soltura, de, lula, causou, oscilações, na, bo...</td>\n",
       "      <td>[soltura, lula, causou, oscilações, bolsa, val...</td>\n",
       "      <td>[(soltura, NN), (lula, NN), (causou, NN), (osc...</td>\n",
       "    </tr>\n",
       "    <tr>\n",
       "      <th>1</th>\n",
       "      <td>' RT @carteiroreaca: Fui notificado pela dire...</td>\n",
       "      <td>' rt @carteiroreaca: fui notificado pela dire...</td>\n",
       "      <td>'  carteiroreaca: fui notificado pela direção...</td>\n",
       "      <td>carteiroreaca  fui notificado pela direção...</td>\n",
       "      <td>[carteiroreaca, fui, notificado, pela, direção...</td>\n",
       "      <td>[carteiroreaca, notificado, direção, nacional,...</td>\n",
       "      <td>[(carteiroreaca, NN), (notificado, CC), (direç...</td>\n",
       "    </tr>\n",
       "    <tr>\n",
       "      <th>2</th>\n",
       "      <td>' Bolsonaro edita medida provisória que extin...</td>\n",
       "      <td>' bolsonaro edita medida provisória que extin...</td>\n",
       "      <td>' bolsonaro edita medida provisória que extin...</td>\n",
       "      <td>bolsonaro edita medida provisória que extin...</td>\n",
       "      <td>[bolsonaro, edita, medida, provisória, que, ex...</td>\n",
       "      <td>[bolsonaro, edita, medida, provisória, extingu...</td>\n",
       "      <td>[(bolsonaro, NN), (edita, CC), (medida, NN), (...</td>\n",
       "    </tr>\n",
       "    <tr>\n",
       "      <th>3</th>\n",
       "      <td>' RT @CarlaValente_17: ??? Parte 1\\nOvacionad...</td>\n",
       "      <td>' rt @ : ??? parte  \\novacionado! presidente ...</td>\n",
       "      <td>' : ??? parte  \\novacionado! presidente bolso...</td>\n",
       "      <td>parte  \\novacionado  presidente bolso...</td>\n",
       "      <td>[parte, ovacionado, presidente, bolsonaro, é, ...</td>\n",
       "      <td>[parte, ovacionado, presidente, bolsonaro, rec...</td>\n",
       "      <td>[(parte, NN), (ovacionado, MD), (presidente, V...</td>\n",
       "    </tr>\n",
       "    <tr>\n",
       "      <th>4</th>\n",
       "      <td>' RT @BolsonaroSP: Muito se fala que o Nordes...</td>\n",
       "      <td>' rt @bolsonarosp: muito se fala que o nordes...</td>\n",
       "      <td>'  bolsonarosp: muito se fala que o nordeste ...</td>\n",
       "      <td>bolsonarosp  muito se fala que o nordeste ...</td>\n",
       "      <td>[bolsonarosp, muito, se, fala, que, o, nordest...</td>\n",
       "      <td>[bolsonarosp, fala, nordeste, apóia, lula, pt,...</td>\n",
       "      <td>[(bolsonarosp, NN), (fala, NN), (nordeste, NN)...</td>\n",
       "    </tr>\n",
       "  </tbody>\n",
       "</table>\n",
       "</div>"
      ],
      "text/plain": [
       "                                             twittes  \\\n",
       "0   ' RT @MarcosQuezado1: Soltura de Lula causou ...   \n",
       "1   ' RT @carteiroreaca: Fui notificado pela dire...   \n",
       "2   ' Bolsonaro edita medida provisória que extin...   \n",
       "3   ' RT @CarlaValente_17: ??? Parte 1\\nOvacionad...   \n",
       "4   ' RT @BolsonaroSP: Muito se fala que o Nordes...   \n",
       "\n",
       "                                            twittes2  \\\n",
       "0   ' rt @ : soltura de lula causou oscilações na...   \n",
       "1   ' rt @carteiroreaca: fui notificado pela dire...   \n",
       "2   ' bolsonaro edita medida provisória que extin...   \n",
       "3   ' rt @ : ??? parte  \\novacionado! presidente ...   \n",
       "4   ' rt @bolsonarosp: muito se fala que o nordes...   \n",
       "\n",
       "                                            twittes3  \\\n",
       "0   ' : soltura de lula causou oscilações na bols...   \n",
       "1   '  carteiroreaca: fui notificado pela direção...   \n",
       "2   ' bolsonaro edita medida provisória que extin...   \n",
       "3   ' : ??? parte  \\novacionado! presidente bolso...   \n",
       "4   '  bolsonarosp: muito se fala que o nordeste ...   \n",
       "\n",
       "                                            twittes4  \\\n",
       "0       soltura de lula causou oscilações na bols...   \n",
       "1      carteiroreaca  fui notificado pela direção...   \n",
       "2     bolsonaro edita medida provisória que extin...   \n",
       "3           parte  \\novacionado  presidente bolso...   \n",
       "4      bolsonarosp  muito se fala que o nordeste ...   \n",
       "\n",
       "                                            twittes5  \\\n",
       "0  [soltura, de, lula, causou, oscilações, na, bo...   \n",
       "1  [carteiroreaca, fui, notificado, pela, direção...   \n",
       "2  [bolsonaro, edita, medida, provisória, que, ex...   \n",
       "3  [parte, ovacionado, presidente, bolsonaro, é, ...   \n",
       "4  [bolsonarosp, muito, se, fala, que, o, nordest...   \n",
       "\n",
       "                                         tokens_stop  \\\n",
       "0  [soltura, lula, causou, oscilações, bolsa, val...   \n",
       "1  [carteiroreaca, notificado, direção, nacional,...   \n",
       "2  [bolsonaro, edita, medida, provisória, extingu...   \n",
       "3  [parte, ovacionado, presidente, bolsonaro, rec...   \n",
       "4  [bolsonarosp, fala, nordeste, apóia, lula, pt,...   \n",
       "\n",
       "                                          tokens_pos  \n",
       "0  [(soltura, NN), (lula, NN), (causou, NN), (osc...  \n",
       "1  [(carteiroreaca, NN), (notificado, CC), (direç...  \n",
       "2  [(bolsonaro, NN), (edita, CC), (medida, NN), (...  \n",
       "3  [(parte, NN), (ovacionado, MD), (presidente, V...  \n",
       "4  [(bolsonarosp, NN), (fala, NN), (nordeste, NN)...  "
      ]
     },
     "execution_count": 64,
     "metadata": {},
     "output_type": "execute_result"
    }
   ],
   "source": [
    "# partes de speech tagging\n",
    "from nltk.tag import pos_tag\n",
    "nltk.download('averaged_perceptron_tagger')\n",
    "pos_lambda = lambda x: nltk.pos_tag(x)\n",
    "df_bozo['tokens_pos'] = (df_bozo.tokens_stop.apply(pos_lambda))\n",
    "df_bozo.head()"
   ]
  },
  {
   "cell_type": "code",
   "execution_count": 71,
   "metadata": {},
   "outputs": [
    {
     "data": {
      "text/html": [
       "<div>\n",
       "<style scoped>\n",
       "    .dataframe tbody tr th:only-of-type {\n",
       "        vertical-align: middle;\n",
       "    }\n",
       "\n",
       "    .dataframe tbody tr th {\n",
       "        vertical-align: top;\n",
       "    }\n",
       "\n",
       "    .dataframe thead th {\n",
       "        text-align: right;\n",
       "    }\n",
       "</style>\n",
       "<table border=\"1\" class=\"dataframe\">\n",
       "  <thead>\n",
       "    <tr style=\"text-align: right;\">\n",
       "      <th></th>\n",
       "      <th>twittes</th>\n",
       "      <th>twittes2</th>\n",
       "      <th>twittes3</th>\n",
       "      <th>twittes4</th>\n",
       "      <th>twittes5</th>\n",
       "      <th>tokens_stop</th>\n",
       "      <th>tokens_pos</th>\n",
       "      <th>tokens_stem</th>\n",
       "    </tr>\n",
       "  </thead>\n",
       "  <tbody>\n",
       "    <tr>\n",
       "      <th>0</th>\n",
       "      <td>' RT @MarcosQuezado1: Soltura de Lula causou ...</td>\n",
       "      <td>' rt @ : soltura de lula causou oscilações na...</td>\n",
       "      <td>' : soltura de lula causou oscilações na bols...</td>\n",
       "      <td>soltura de lula causou oscilações na bols...</td>\n",
       "      <td>[soltura, de, lula, causou, oscilações, na, bo...</td>\n",
       "      <td>[soltura, lula, causou, oscilações, bolsa, val...</td>\n",
       "      <td>[(soltura, NN), (lula, NN), (causou, NN), (osc...</td>\n",
       "      <td>[soltur, lul, caus, oscil, bols, valor, diz, b...</td>\n",
       "    </tr>\n",
       "    <tr>\n",
       "      <th>1</th>\n",
       "      <td>' RT @carteiroreaca: Fui notificado pela dire...</td>\n",
       "      <td>' rt @carteiroreaca: fui notificado pela dire...</td>\n",
       "      <td>'  carteiroreaca: fui notificado pela direção...</td>\n",
       "      <td>carteiroreaca  fui notificado pela direção...</td>\n",
       "      <td>[carteiroreaca, fui, notificado, pela, direção...</td>\n",
       "      <td>[carteiroreaca, notificado, direção, nacional,...</td>\n",
       "      <td>[(carteiroreaca, NN), (notificado, CC), (direç...</td>\n",
       "      <td>[carteiroreac, notific, direçã, nacional, psl,...</td>\n",
       "    </tr>\n",
       "    <tr>\n",
       "      <th>2</th>\n",
       "      <td>' Bolsonaro edita medida provisória que extin...</td>\n",
       "      <td>' bolsonaro edita medida provisória que extin...</td>\n",
       "      <td>' bolsonaro edita medida provisória que extin...</td>\n",
       "      <td>bolsonaro edita medida provisória que extin...</td>\n",
       "      <td>[bolsonaro, edita, medida, provisória, que, ex...</td>\n",
       "      <td>[bolsonaro, edita, medida, provisória, extingu...</td>\n",
       "      <td>[(bolsonaro, NN), (edita, CC), (medida, NN), (...</td>\n",
       "      <td>[bolsonar, edit, med, provisór, exting, dpvat,...</td>\n",
       "    </tr>\n",
       "    <tr>\n",
       "      <th>3</th>\n",
       "      <td>' RT @CarlaValente_17: ??? Parte 1\\nOvacionad...</td>\n",
       "      <td>' rt @ : ??? parte  \\novacionado! presidente ...</td>\n",
       "      <td>' : ??? parte  \\novacionado! presidente bolso...</td>\n",
       "      <td>parte  \\novacionado  presidente bolso...</td>\n",
       "      <td>[parte, ovacionado, presidente, bolsonaro, é, ...</td>\n",
       "      <td>[parte, ovacionado, presidente, bolsonaro, rec...</td>\n",
       "      <td>[(parte, NN), (ovacionado, MD), (presidente, V...</td>\n",
       "      <td>[part, ovacion, president, bolsonar, receb, gr...</td>\n",
       "    </tr>\n",
       "    <tr>\n",
       "      <th>4</th>\n",
       "      <td>' RT @BolsonaroSP: Muito se fala que o Nordes...</td>\n",
       "      <td>' rt @bolsonarosp: muito se fala que o nordes...</td>\n",
       "      <td>'  bolsonarosp: muito se fala que o nordeste ...</td>\n",
       "      <td>bolsonarosp  muito se fala que o nordeste ...</td>\n",
       "      <td>[bolsonarosp, muito, se, fala, que, o, nordest...</td>\n",
       "      <td>[bolsonarosp, fala, nordeste, apóia, lula, pt,...</td>\n",
       "      <td>[(bolsonarosp, NN), (fala, NN), (nordeste, NN)...</td>\n",
       "      <td>[bolsonarosp, fal, nord, apó, lul, pt, agend, ...</td>\n",
       "    </tr>\n",
       "  </tbody>\n",
       "</table>\n",
       "</div>"
      ],
      "text/plain": [
       "                                             twittes  \\\n",
       "0   ' RT @MarcosQuezado1: Soltura de Lula causou ...   \n",
       "1   ' RT @carteiroreaca: Fui notificado pela dire...   \n",
       "2   ' Bolsonaro edita medida provisória que extin...   \n",
       "3   ' RT @CarlaValente_17: ??? Parte 1\\nOvacionad...   \n",
       "4   ' RT @BolsonaroSP: Muito se fala que o Nordes...   \n",
       "\n",
       "                                            twittes2  \\\n",
       "0   ' rt @ : soltura de lula causou oscilações na...   \n",
       "1   ' rt @carteiroreaca: fui notificado pela dire...   \n",
       "2   ' bolsonaro edita medida provisória que extin...   \n",
       "3   ' rt @ : ??? parte  \\novacionado! presidente ...   \n",
       "4   ' rt @bolsonarosp: muito se fala que o nordes...   \n",
       "\n",
       "                                            twittes3  \\\n",
       "0   ' : soltura de lula causou oscilações na bols...   \n",
       "1   '  carteiroreaca: fui notificado pela direção...   \n",
       "2   ' bolsonaro edita medida provisória que extin...   \n",
       "3   ' : ??? parte  \\novacionado! presidente bolso...   \n",
       "4   '  bolsonarosp: muito se fala que o nordeste ...   \n",
       "\n",
       "                                            twittes4  \\\n",
       "0       soltura de lula causou oscilações na bols...   \n",
       "1      carteiroreaca  fui notificado pela direção...   \n",
       "2     bolsonaro edita medida provisória que extin...   \n",
       "3           parte  \\novacionado  presidente bolso...   \n",
       "4      bolsonarosp  muito se fala que o nordeste ...   \n",
       "\n",
       "                                            twittes5  \\\n",
       "0  [soltura, de, lula, causou, oscilações, na, bo...   \n",
       "1  [carteiroreaca, fui, notificado, pela, direção...   \n",
       "2  [bolsonaro, edita, medida, provisória, que, ex...   \n",
       "3  [parte, ovacionado, presidente, bolsonaro, é, ...   \n",
       "4  [bolsonarosp, muito, se, fala, que, o, nordest...   \n",
       "\n",
       "                                         tokens_stop  \\\n",
       "0  [soltura, lula, causou, oscilações, bolsa, val...   \n",
       "1  [carteiroreaca, notificado, direção, nacional,...   \n",
       "2  [bolsonaro, edita, medida, provisória, extingu...   \n",
       "3  [parte, ovacionado, presidente, bolsonaro, rec...   \n",
       "4  [bolsonarosp, fala, nordeste, apóia, lula, pt,...   \n",
       "\n",
       "                                          tokens_pos  \\\n",
       "0  [(soltura, NN), (lula, NN), (causou, NN), (osc...   \n",
       "1  [(carteiroreaca, NN), (notificado, CC), (direç...   \n",
       "2  [(bolsonaro, NN), (edita, CC), (medida, NN), (...   \n",
       "3  [(parte, NN), (ovacionado, MD), (presidente, V...   \n",
       "4  [(bolsonarosp, NN), (fala, NN), (nordeste, NN)...   \n",
       "\n",
       "                                         tokens_stem  \n",
       "0  [soltur, lul, caus, oscil, bols, valor, diz, b...  \n",
       "1  [carteiroreac, notific, direçã, nacional, psl,...  \n",
       "2  [bolsonar, edit, med, provisór, exting, dpvat,...  \n",
       "3  [part, ovacion, president, bolsonar, receb, gr...  \n",
       "4  [bolsonarosp, fal, nord, apó, lul, pt, agend, ...  "
      ]
     },
     "execution_count": 71,
     "metadata": {},
     "output_type": "execute_result"
    }
   ],
   "source": [
    "# Executar stemming, que remove terminações de palavras alternativas sem o conhecimento do contexto\n",
    "from nltk.stem import SnowballStemmer\n",
    "\n",
    "stemmer = SnowballStemmer('portuguese')\n",
    "stem_lambda = lambda x: [stemmer.stem(y) for y in x]\n",
    "\n",
    "df_bozo['tokens_stem'] = df_bozo.tokens_stop.apply(stem_lambda)\n",
    "df_bozo.head()"
   ]
  },
  {
   "cell_type": "code",
   "execution_count": 72,
   "metadata": {},
   "outputs": [
    {
     "name": "stderr",
     "output_type": "stream",
     "text": [
      "[nltk_data] Downloading package averaged_perceptron_tagger to\n",
      "[nltk_data]     C:\\Users\\ltss062019\\AppData\\Roaming\\nltk_data...\n",
      "[nltk_data]   Package averaged_perceptron_tagger is already up-to-\n",
      "[nltk_data]       date!\n",
      "[nltk_data] Downloading collection 'all'\n",
      "[nltk_data]    | \n",
      "[nltk_data]    | Downloading package abc to\n",
      "[nltk_data]    |     C:\\Users\\ltss062019\\AppData\\Roaming\\nltk_data...\n",
      "[nltk_data]    |   Package abc is already up-to-date!\n",
      "[nltk_data]    | Downloading package alpino to\n",
      "[nltk_data]    |     C:\\Users\\ltss062019\\AppData\\Roaming\\nltk_data...\n",
      "[nltk_data]    |   Package alpino is already up-to-date!\n",
      "[nltk_data]    | Downloading package biocreative_ppi to\n",
      "[nltk_data]    |     C:\\Users\\ltss062019\\AppData\\Roaming\\nltk_data...\n",
      "[nltk_data]    |   Package biocreative_ppi is already up-to-date!\n",
      "[nltk_data]    | Downloading package brown to\n",
      "[nltk_data]    |     C:\\Users\\ltss062019\\AppData\\Roaming\\nltk_data...\n",
      "[nltk_data]    |   Package brown is already up-to-date!\n",
      "[nltk_data]    | Downloading package brown_tei to\n",
      "[nltk_data]    |     C:\\Users\\ltss062019\\AppData\\Roaming\\nltk_data...\n",
      "[nltk_data]    |   Package brown_tei is already up-to-date!\n",
      "[nltk_data]    | Downloading package cess_cat to\n",
      "[nltk_data]    |     C:\\Users\\ltss062019\\AppData\\Roaming\\nltk_data...\n",
      "[nltk_data]    |   Package cess_cat is already up-to-date!\n",
      "[nltk_data]    | Downloading package cess_esp to\n",
      "[nltk_data]    |     C:\\Users\\ltss062019\\AppData\\Roaming\\nltk_data...\n",
      "[nltk_data]    |   Package cess_esp is already up-to-date!\n",
      "[nltk_data]    | Downloading package chat80 to\n",
      "[nltk_data]    |     C:\\Users\\ltss062019\\AppData\\Roaming\\nltk_data...\n",
      "[nltk_data]    |   Package chat80 is already up-to-date!\n",
      "[nltk_data]    | Downloading package city_database to\n",
      "[nltk_data]    |     C:\\Users\\ltss062019\\AppData\\Roaming\\nltk_data...\n",
      "[nltk_data]    |   Package city_database is already up-to-date!\n",
      "[nltk_data]    | Downloading package cmudict to\n",
      "[nltk_data]    |     C:\\Users\\ltss062019\\AppData\\Roaming\\nltk_data...\n",
      "[nltk_data]    |   Package cmudict is already up-to-date!\n",
      "[nltk_data]    | Downloading package comparative_sentences to\n",
      "[nltk_data]    |     C:\\Users\\ltss062019\\AppData\\Roaming\\nltk_data...\n",
      "[nltk_data]    |   Package comparative_sentences is already up-to-\n",
      "[nltk_data]    |       date!\n",
      "[nltk_data]    | Downloading package comtrans to\n",
      "[nltk_data]    |     C:\\Users\\ltss062019\\AppData\\Roaming\\nltk_data...\n",
      "[nltk_data]    |   Package comtrans is already up-to-date!\n",
      "[nltk_data]    | Downloading package conll2000 to\n",
      "[nltk_data]    |     C:\\Users\\ltss062019\\AppData\\Roaming\\nltk_data...\n",
      "[nltk_data]    |   Package conll2000 is already up-to-date!\n",
      "[nltk_data]    | Downloading package conll2002 to\n",
      "[nltk_data]    |     C:\\Users\\ltss062019\\AppData\\Roaming\\nltk_data...\n",
      "[nltk_data]    |   Package conll2002 is already up-to-date!\n",
      "[nltk_data]    | Downloading package conll2007 to\n",
      "[nltk_data]    |     C:\\Users\\ltss062019\\AppData\\Roaming\\nltk_data...\n",
      "[nltk_data]    |   Package conll2007 is already up-to-date!\n",
      "[nltk_data]    | Downloading package crubadan to\n",
      "[nltk_data]    |     C:\\Users\\ltss062019\\AppData\\Roaming\\nltk_data...\n",
      "[nltk_data]    |   Package crubadan is already up-to-date!\n",
      "[nltk_data]    | Downloading package dependency_treebank to\n",
      "[nltk_data]    |     C:\\Users\\ltss062019\\AppData\\Roaming\\nltk_data...\n",
      "[nltk_data]    |   Package dependency_treebank is already up-to-date!\n",
      "[nltk_data]    | Downloading package dolch to\n",
      "[nltk_data]    |     C:\\Users\\ltss062019\\AppData\\Roaming\\nltk_data...\n",
      "[nltk_data]    |   Package dolch is already up-to-date!\n",
      "[nltk_data]    | Downloading package europarl_raw to\n",
      "[nltk_data]    |     C:\\Users\\ltss062019\\AppData\\Roaming\\nltk_data...\n",
      "[nltk_data]    |   Package europarl_raw is already up-to-date!\n",
      "[nltk_data]    | Downloading package floresta to\n",
      "[nltk_data]    |     C:\\Users\\ltss062019\\AppData\\Roaming\\nltk_data...\n",
      "[nltk_data]    |   Package floresta is already up-to-date!\n",
      "[nltk_data]    | Downloading package framenet_v15 to\n",
      "[nltk_data]    |     C:\\Users\\ltss062019\\AppData\\Roaming\\nltk_data...\n",
      "[nltk_data]    |   Package framenet_v15 is already up-to-date!\n",
      "[nltk_data]    | Downloading package framenet_v17 to\n",
      "[nltk_data]    |     C:\\Users\\ltss062019\\AppData\\Roaming\\nltk_data...\n",
      "[nltk_data]    |   Package framenet_v17 is already up-to-date!\n",
      "[nltk_data]    | Downloading package gazetteers to\n",
      "[nltk_data]    |     C:\\Users\\ltss062019\\AppData\\Roaming\\nltk_data...\n",
      "[nltk_data]    |   Package gazetteers is already up-to-date!\n",
      "[nltk_data]    | Downloading package genesis to\n",
      "[nltk_data]    |     C:\\Users\\ltss062019\\AppData\\Roaming\\nltk_data...\n",
      "[nltk_data]    |   Package genesis is already up-to-date!\n",
      "[nltk_data]    | Downloading package gutenberg to\n",
      "[nltk_data]    |     C:\\Users\\ltss062019\\AppData\\Roaming\\nltk_data...\n",
      "[nltk_data]    |   Package gutenberg is already up-to-date!\n",
      "[nltk_data]    | Downloading package ieer to\n",
      "[nltk_data]    |     C:\\Users\\ltss062019\\AppData\\Roaming\\nltk_data...\n",
      "[nltk_data]    |   Package ieer is already up-to-date!\n",
      "[nltk_data]    | Downloading package inaugural to\n",
      "[nltk_data]    |     C:\\Users\\ltss062019\\AppData\\Roaming\\nltk_data...\n",
      "[nltk_data]    |   Package inaugural is already up-to-date!\n",
      "[nltk_data]    | Downloading package indian to\n",
      "[nltk_data]    |     C:\\Users\\ltss062019\\AppData\\Roaming\\nltk_data...\n",
      "[nltk_data]    |   Package indian is already up-to-date!\n",
      "[nltk_data]    | Downloading package jeita to\n",
      "[nltk_data]    |     C:\\Users\\ltss062019\\AppData\\Roaming\\nltk_data...\n",
      "[nltk_data]    |   Package jeita is already up-to-date!\n",
      "[nltk_data]    | Downloading package kimmo to\n",
      "[nltk_data]    |     C:\\Users\\ltss062019\\AppData\\Roaming\\nltk_data...\n",
      "[nltk_data]    |   Package kimmo is already up-to-date!\n",
      "[nltk_data]    | Downloading package knbc to\n",
      "[nltk_data]    |     C:\\Users\\ltss062019\\AppData\\Roaming\\nltk_data...\n",
      "[nltk_data]    |   Package knbc is already up-to-date!\n",
      "[nltk_data]    | Downloading package lin_thesaurus to\n",
      "[nltk_data]    |     C:\\Users\\ltss062019\\AppData\\Roaming\\nltk_data...\n",
      "[nltk_data]    |   Package lin_thesaurus is already up-to-date!\n",
      "[nltk_data]    | Downloading package mac_morpho to\n",
      "[nltk_data]    |     C:\\Users\\ltss062019\\AppData\\Roaming\\nltk_data...\n",
      "[nltk_data]    |   Package mac_morpho is already up-to-date!\n",
      "[nltk_data]    | Downloading package machado to\n",
      "[nltk_data]    |     C:\\Users\\ltss062019\\AppData\\Roaming\\nltk_data...\n",
      "[nltk_data]    |   Package machado is already up-to-date!\n",
      "[nltk_data]    | Downloading package masc_tagged to\n",
      "[nltk_data]    |     C:\\Users\\ltss062019\\AppData\\Roaming\\nltk_data...\n",
      "[nltk_data]    |   Package masc_tagged is already up-to-date!\n",
      "[nltk_data]    | Downloading package moses_sample to\n",
      "[nltk_data]    |     C:\\Users\\ltss062019\\AppData\\Roaming\\nltk_data...\n",
      "[nltk_data]    |   Package moses_sample is already up-to-date!\n",
      "[nltk_data]    | Downloading package movie_reviews to\n",
      "[nltk_data]    |     C:\\Users\\ltss062019\\AppData\\Roaming\\nltk_data...\n",
      "[nltk_data]    |   Package movie_reviews is already up-to-date!\n",
      "[nltk_data]    | Downloading package names to\n",
      "[nltk_data]    |     C:\\Users\\ltss062019\\AppData\\Roaming\\nltk_data...\n",
      "[nltk_data]    |   Package names is already up-to-date!\n",
      "[nltk_data]    | Downloading package nombank.1.0 to\n",
      "[nltk_data]    |     C:\\Users\\ltss062019\\AppData\\Roaming\\nltk_data...\n",
      "[nltk_data]    |   Package nombank.1.0 is already up-to-date!\n",
      "[nltk_data]    | Downloading package nps_chat to\n",
      "[nltk_data]    |     C:\\Users\\ltss062019\\AppData\\Roaming\\nltk_data...\n",
      "[nltk_data]    |   Package nps_chat is already up-to-date!\n",
      "[nltk_data]    | Downloading package omw to\n",
      "[nltk_data]    |     C:\\Users\\ltss062019\\AppData\\Roaming\\nltk_data...\n",
      "[nltk_data]    |   Package omw is already up-to-date!\n",
      "[nltk_data]    | Downloading package opinion_lexicon to\n",
      "[nltk_data]    |     C:\\Users\\ltss062019\\AppData\\Roaming\\nltk_data...\n",
      "[nltk_data]    |   Package opinion_lexicon is already up-to-date!\n",
      "[nltk_data]    | Downloading package paradigms to\n",
      "[nltk_data]    |     C:\\Users\\ltss062019\\AppData\\Roaming\\nltk_data...\n",
      "[nltk_data]    |   Package paradigms is already up-to-date!\n",
      "[nltk_data]    | Downloading package pil to\n",
      "[nltk_data]    |     C:\\Users\\ltss062019\\AppData\\Roaming\\nltk_data...\n",
      "[nltk_data]    |   Package pil is already up-to-date!\n",
      "[nltk_data]    | Downloading package pl196x to\n",
      "[nltk_data]    |     C:\\Users\\ltss062019\\AppData\\Roaming\\nltk_data...\n",
      "[nltk_data]    |   Package pl196x is already up-to-date!\n",
      "[nltk_data]    | Downloading package ppattach to\n",
      "[nltk_data]    |     C:\\Users\\ltss062019\\AppData\\Roaming\\nltk_data...\n",
      "[nltk_data]    |   Package ppattach is already up-to-date!\n",
      "[nltk_data]    | Downloading package problem_reports to\n",
      "[nltk_data]    |     C:\\Users\\ltss062019\\AppData\\Roaming\\nltk_data...\n"
     ]
    },
    {
     "name": "stderr",
     "output_type": "stream",
     "text": [
      "[nltk_data]    |   Package problem_reports is already up-to-date!\n",
      "[nltk_data]    | Downloading package propbank to\n",
      "[nltk_data]    |     C:\\Users\\ltss062019\\AppData\\Roaming\\nltk_data...\n",
      "[nltk_data]    |   Package propbank is already up-to-date!\n",
      "[nltk_data]    | Downloading package ptb to\n",
      "[nltk_data]    |     C:\\Users\\ltss062019\\AppData\\Roaming\\nltk_data...\n",
      "[nltk_data]    |   Package ptb is already up-to-date!\n",
      "[nltk_data]    | Downloading package product_reviews_1 to\n",
      "[nltk_data]    |     C:\\Users\\ltss062019\\AppData\\Roaming\\nltk_data...\n",
      "[nltk_data]    |   Package product_reviews_1 is already up-to-date!\n",
      "[nltk_data]    | Downloading package product_reviews_2 to\n",
      "[nltk_data]    |     C:\\Users\\ltss062019\\AppData\\Roaming\\nltk_data...\n",
      "[nltk_data]    |   Package product_reviews_2 is already up-to-date!\n",
      "[nltk_data]    | Downloading package pros_cons to\n",
      "[nltk_data]    |     C:\\Users\\ltss062019\\AppData\\Roaming\\nltk_data...\n",
      "[nltk_data]    |   Package pros_cons is already up-to-date!\n",
      "[nltk_data]    | Downloading package qc to\n",
      "[nltk_data]    |     C:\\Users\\ltss062019\\AppData\\Roaming\\nltk_data...\n",
      "[nltk_data]    |   Package qc is already up-to-date!\n",
      "[nltk_data]    | Downloading package reuters to\n",
      "[nltk_data]    |     C:\\Users\\ltss062019\\AppData\\Roaming\\nltk_data...\n",
      "[nltk_data]    |   Package reuters is already up-to-date!\n",
      "[nltk_data]    | Downloading package rte to\n",
      "[nltk_data]    |     C:\\Users\\ltss062019\\AppData\\Roaming\\nltk_data...\n",
      "[nltk_data]    |   Package rte is already up-to-date!\n",
      "[nltk_data]    | Downloading package semcor to\n",
      "[nltk_data]    |     C:\\Users\\ltss062019\\AppData\\Roaming\\nltk_data...\n",
      "[nltk_data]    |   Package semcor is already up-to-date!\n",
      "[nltk_data]    | Downloading package senseval to\n",
      "[nltk_data]    |     C:\\Users\\ltss062019\\AppData\\Roaming\\nltk_data...\n",
      "[nltk_data]    |   Package senseval is already up-to-date!\n",
      "[nltk_data]    | Downloading package sentiwordnet to\n",
      "[nltk_data]    |     C:\\Users\\ltss062019\\AppData\\Roaming\\nltk_data...\n",
      "[nltk_data]    |   Package sentiwordnet is already up-to-date!\n",
      "[nltk_data]    | Downloading package sentence_polarity to\n",
      "[nltk_data]    |     C:\\Users\\ltss062019\\AppData\\Roaming\\nltk_data...\n",
      "[nltk_data]    |   Package sentence_polarity is already up-to-date!\n",
      "[nltk_data]    | Downloading package shakespeare to\n",
      "[nltk_data]    |     C:\\Users\\ltss062019\\AppData\\Roaming\\nltk_data...\n",
      "[nltk_data]    |   Package shakespeare is already up-to-date!\n",
      "[nltk_data]    | Downloading package sinica_treebank to\n",
      "[nltk_data]    |     C:\\Users\\ltss062019\\AppData\\Roaming\\nltk_data...\n",
      "[nltk_data]    |   Package sinica_treebank is already up-to-date!\n",
      "[nltk_data]    | Downloading package smultron to\n",
      "[nltk_data]    |     C:\\Users\\ltss062019\\AppData\\Roaming\\nltk_data...\n",
      "[nltk_data]    |   Package smultron is already up-to-date!\n",
      "[nltk_data]    | Downloading package state_union to\n",
      "[nltk_data]    |     C:\\Users\\ltss062019\\AppData\\Roaming\\nltk_data...\n",
      "[nltk_data]    |   Package state_union is already up-to-date!\n",
      "[nltk_data]    | Downloading package stopwords to\n",
      "[nltk_data]    |     C:\\Users\\ltss062019\\AppData\\Roaming\\nltk_data...\n",
      "[nltk_data]    |   Package stopwords is already up-to-date!\n",
      "[nltk_data]    | Downloading package subjectivity to\n",
      "[nltk_data]    |     C:\\Users\\ltss062019\\AppData\\Roaming\\nltk_data...\n",
      "[nltk_data]    |   Package subjectivity is already up-to-date!\n",
      "[nltk_data]    | Downloading package swadesh to\n",
      "[nltk_data]    |     C:\\Users\\ltss062019\\AppData\\Roaming\\nltk_data...\n",
      "[nltk_data]    |   Package swadesh is already up-to-date!\n",
      "[nltk_data]    | Downloading package switchboard to\n",
      "[nltk_data]    |     C:\\Users\\ltss062019\\AppData\\Roaming\\nltk_data...\n",
      "[nltk_data]    |   Package switchboard is already up-to-date!\n",
      "[nltk_data]    | Downloading package timit to\n",
      "[nltk_data]    |     C:\\Users\\ltss062019\\AppData\\Roaming\\nltk_data...\n",
      "[nltk_data]    |   Package timit is already up-to-date!\n",
      "[nltk_data]    | Downloading package toolbox to\n",
      "[nltk_data]    |     C:\\Users\\ltss062019\\AppData\\Roaming\\nltk_data...\n",
      "[nltk_data]    |   Package toolbox is already up-to-date!\n",
      "[nltk_data]    | Downloading package treebank to\n",
      "[nltk_data]    |     C:\\Users\\ltss062019\\AppData\\Roaming\\nltk_data...\n",
      "[nltk_data]    |   Package treebank is already up-to-date!\n",
      "[nltk_data]    | Downloading package twitter_samples to\n",
      "[nltk_data]    |     C:\\Users\\ltss062019\\AppData\\Roaming\\nltk_data...\n",
      "[nltk_data]    |   Package twitter_samples is already up-to-date!\n",
      "[nltk_data]    | Downloading package udhr to\n",
      "[nltk_data]    |     C:\\Users\\ltss062019\\AppData\\Roaming\\nltk_data...\n",
      "[nltk_data]    |   Package udhr is already up-to-date!\n",
      "[nltk_data]    | Downloading package udhr2 to\n",
      "[nltk_data]    |     C:\\Users\\ltss062019\\AppData\\Roaming\\nltk_data...\n",
      "[nltk_data]    |   Package udhr2 is already up-to-date!\n",
      "[nltk_data]    | Downloading package unicode_samples to\n",
      "[nltk_data]    |     C:\\Users\\ltss062019\\AppData\\Roaming\\nltk_data...\n",
      "[nltk_data]    |   Package unicode_samples is already up-to-date!\n",
      "[nltk_data]    | Downloading package universal_treebanks_v20 to\n",
      "[nltk_data]    |     C:\\Users\\ltss062019\\AppData\\Roaming\\nltk_data...\n",
      "[nltk_data]    |   Package universal_treebanks_v20 is already up-to-\n",
      "[nltk_data]    |       date!\n",
      "[nltk_data]    | Downloading package verbnet to\n",
      "[nltk_data]    |     C:\\Users\\ltss062019\\AppData\\Roaming\\nltk_data...\n",
      "[nltk_data]    |   Package verbnet is already up-to-date!\n",
      "[nltk_data]    | Downloading package verbnet3 to\n",
      "[nltk_data]    |     C:\\Users\\ltss062019\\AppData\\Roaming\\nltk_data...\n",
      "[nltk_data]    |   Package verbnet3 is already up-to-date!\n",
      "[nltk_data]    | Downloading package webtext to\n",
      "[nltk_data]    |     C:\\Users\\ltss062019\\AppData\\Roaming\\nltk_data...\n",
      "[nltk_data]    |   Package webtext is already up-to-date!\n",
      "[nltk_data]    | Downloading package wordnet to\n",
      "[nltk_data]    |     C:\\Users\\ltss062019\\AppData\\Roaming\\nltk_data...\n",
      "[nltk_data]    |   Package wordnet is already up-to-date!\n",
      "[nltk_data]    | Downloading package wordnet_ic to\n",
      "[nltk_data]    |     C:\\Users\\ltss062019\\AppData\\Roaming\\nltk_data...\n",
      "[nltk_data]    |   Package wordnet_ic is already up-to-date!\n",
      "[nltk_data]    | Downloading package words to\n",
      "[nltk_data]    |     C:\\Users\\ltss062019\\AppData\\Roaming\\nltk_data...\n",
      "[nltk_data]    |   Package words is already up-to-date!\n",
      "[nltk_data]    | Downloading package ycoe to\n",
      "[nltk_data]    |     C:\\Users\\ltss062019\\AppData\\Roaming\\nltk_data...\n",
      "[nltk_data]    |   Package ycoe is already up-to-date!\n",
      "[nltk_data]    | Downloading package rslp to\n",
      "[nltk_data]    |     C:\\Users\\ltss062019\\AppData\\Roaming\\nltk_data...\n",
      "[nltk_data]    |   Package rslp is already up-to-date!\n",
      "[nltk_data]    | Downloading package maxent_treebank_pos_tagger to\n",
      "[nltk_data]    |     C:\\Users\\ltss062019\\AppData\\Roaming\\nltk_data...\n",
      "[nltk_data]    |   Package maxent_treebank_pos_tagger is already up-\n",
      "[nltk_data]    |       to-date!\n",
      "[nltk_data]    | Downloading package universal_tagset to\n",
      "[nltk_data]    |     C:\\Users\\ltss062019\\AppData\\Roaming\\nltk_data...\n",
      "[nltk_data]    |   Package universal_tagset is already up-to-date!\n",
      "[nltk_data]    | Downloading package maxent_ne_chunker to\n",
      "[nltk_data]    |     C:\\Users\\ltss062019\\AppData\\Roaming\\nltk_data...\n",
      "[nltk_data]    |   Package maxent_ne_chunker is already up-to-date!\n",
      "[nltk_data]    | Downloading package punkt to\n",
      "[nltk_data]    |     C:\\Users\\ltss062019\\AppData\\Roaming\\nltk_data...\n",
      "[nltk_data]    |   Package punkt is already up-to-date!\n",
      "[nltk_data]    | Downloading package book_grammars to\n",
      "[nltk_data]    |     C:\\Users\\ltss062019\\AppData\\Roaming\\nltk_data...\n",
      "[nltk_data]    |   Package book_grammars is already up-to-date!\n",
      "[nltk_data]    | Downloading package sample_grammars to\n",
      "[nltk_data]    |     C:\\Users\\ltss062019\\AppData\\Roaming\\nltk_data...\n",
      "[nltk_data]    |   Package sample_grammars is already up-to-date!\n",
      "[nltk_data]    | Downloading package spanish_grammars to\n",
      "[nltk_data]    |     C:\\Users\\ltss062019\\AppData\\Roaming\\nltk_data...\n",
      "[nltk_data]    |   Package spanish_grammars is already up-to-date!\n",
      "[nltk_data]    | Downloading package basque_grammars to\n",
      "[nltk_data]    |     C:\\Users\\ltss062019\\AppData\\Roaming\\nltk_data...\n",
      "[nltk_data]    |   Package basque_grammars is already up-to-date!\n",
      "[nltk_data]    | Downloading package large_grammars to\n",
      "[nltk_data]    |     C:\\Users\\ltss062019\\AppData\\Roaming\\nltk_data...\n",
      "[nltk_data]    |   Package large_grammars is already up-to-date!\n",
      "[nltk_data]    | Downloading package tagsets to\n",
      "[nltk_data]    |     C:\\Users\\ltss062019\\AppData\\Roaming\\nltk_data...\n",
      "[nltk_data]    |   Package tagsets is already up-to-date!\n",
      "[nltk_data]    | Downloading package snowball_data to\n",
      "[nltk_data]    |     C:\\Users\\ltss062019\\AppData\\Roaming\\nltk_data...\n",
      "[nltk_data]    |   Package snowball_data is already up-to-date!\n",
      "[nltk_data]    | Downloading package bllip_wsj_no_aux to\n",
      "[nltk_data]    |     C:\\Users\\ltss062019\\AppData\\Roaming\\nltk_data...\n"
     ]
    },
    {
     "name": "stderr",
     "output_type": "stream",
     "text": [
      "[nltk_data]    |   Package bllip_wsj_no_aux is already up-to-date!\n",
      "[nltk_data]    | Downloading package word2vec_sample to\n",
      "[nltk_data]    |     C:\\Users\\ltss062019\\AppData\\Roaming\\nltk_data...\n",
      "[nltk_data]    |   Package word2vec_sample is already up-to-date!\n",
      "[nltk_data]    | Downloading package panlex_swadesh to\n",
      "[nltk_data]    |     C:\\Users\\ltss062019\\AppData\\Roaming\\nltk_data...\n",
      "[nltk_data]    |   Package panlex_swadesh is already up-to-date!\n",
      "[nltk_data]    | Downloading package mte_teip5 to\n",
      "[nltk_data]    |     C:\\Users\\ltss062019\\AppData\\Roaming\\nltk_data...\n",
      "[nltk_data]    |   Package mte_teip5 is already up-to-date!\n",
      "[nltk_data]    | Downloading package averaged_perceptron_tagger to\n",
      "[nltk_data]    |     C:\\Users\\ltss062019\\AppData\\Roaming\\nltk_data...\n",
      "[nltk_data]    |   Package averaged_perceptron_tagger is already up-\n",
      "[nltk_data]    |       to-date!\n",
      "[nltk_data]    | Downloading package averaged_perceptron_tagger_ru to\n",
      "[nltk_data]    |     C:\\Users\\ltss062019\\AppData\\Roaming\\nltk_data...\n",
      "[nltk_data]    |   Package averaged_perceptron_tagger_ru is already\n",
      "[nltk_data]    |       up-to-date!\n",
      "[nltk_data]    | Downloading package perluniprops to\n",
      "[nltk_data]    |     C:\\Users\\ltss062019\\AppData\\Roaming\\nltk_data...\n",
      "[nltk_data]    |   Package perluniprops is already up-to-date!\n",
      "[nltk_data]    | Downloading package nonbreaking_prefixes to\n",
      "[nltk_data]    |     C:\\Users\\ltss062019\\AppData\\Roaming\\nltk_data...\n",
      "[nltk_data]    |   Package nonbreaking_prefixes is already up-to-date!\n",
      "[nltk_data]    | Downloading package vader_lexicon to\n",
      "[nltk_data]    |     C:\\Users\\ltss062019\\AppData\\Roaming\\nltk_data...\n",
      "[nltk_data]    |   Package vader_lexicon is already up-to-date!\n",
      "[nltk_data]    | Downloading package porter_test to\n",
      "[nltk_data]    |     C:\\Users\\ltss062019\\AppData\\Roaming\\nltk_data...\n",
      "[nltk_data]    |   Package porter_test is already up-to-date!\n",
      "[nltk_data]    | Downloading package wmt15_eval to\n",
      "[nltk_data]    |     C:\\Users\\ltss062019\\AppData\\Roaming\\nltk_data...\n",
      "[nltk_data]    |   Package wmt15_eval is already up-to-date!\n",
      "[nltk_data]    | Downloading package mwa_ppdb to\n",
      "[nltk_data]    |     C:\\Users\\ltss062019\\AppData\\Roaming\\nltk_data...\n",
      "[nltk_data]    |   Package mwa_ppdb is already up-to-date!\n",
      "[nltk_data]    | \n",
      "[nltk_data]  Done downloading collection all\n"
     ]
    },
    {
     "data": {
      "text/html": [
       "<div>\n",
       "<style scoped>\n",
       "    .dataframe tbody tr th:only-of-type {\n",
       "        vertical-align: middle;\n",
       "    }\n",
       "\n",
       "    .dataframe tbody tr th {\n",
       "        vertical-align: top;\n",
       "    }\n",
       "\n",
       "    .dataframe thead th {\n",
       "        text-align: right;\n",
       "    }\n",
       "</style>\n",
       "<table border=\"1\" class=\"dataframe\">\n",
       "  <thead>\n",
       "    <tr style=\"text-align: right;\">\n",
       "      <th></th>\n",
       "      <th>0</th>\n",
       "      <th>1</th>\n",
       "      <th>2</th>\n",
       "      <th>3</th>\n",
       "      <th>4</th>\n",
       "    </tr>\n",
       "  </thead>\n",
       "  <tbody>\n",
       "    <tr>\n",
       "      <th>twittes</th>\n",
       "      <td>' RT @MarcosQuezado1: Soltura de Lula causou ...</td>\n",
       "      <td>' RT @carteiroreaca: Fui notificado pela dire...</td>\n",
       "      <td>' Bolsonaro edita medida provisória que extin...</td>\n",
       "      <td>' RT @CarlaValente_17: ??? Parte 1\\nOvacionad...</td>\n",
       "      <td>' RT @BolsonaroSP: Muito se fala que o Nordes...</td>\n",
       "    </tr>\n",
       "    <tr>\n",
       "      <th>twittes2</th>\n",
       "      <td>' rt @ : soltura de lula causou oscilações na...</td>\n",
       "      <td>' rt @carteiroreaca: fui notificado pela dire...</td>\n",
       "      <td>' bolsonaro edita medida provisória que extin...</td>\n",
       "      <td>' rt @ : ??? parte  \\novacionado! presidente ...</td>\n",
       "      <td>' rt @bolsonarosp: muito se fala que o nordes...</td>\n",
       "    </tr>\n",
       "    <tr>\n",
       "      <th>twittes3</th>\n",
       "      <td>' : soltura de lula causou oscilações na bols...</td>\n",
       "      <td>'  carteiroreaca: fui notificado pela direção...</td>\n",
       "      <td>' bolsonaro edita medida provisória que extin...</td>\n",
       "      <td>' : ??? parte  \\novacionado! presidente bolso...</td>\n",
       "      <td>'  bolsonarosp: muito se fala que o nordeste ...</td>\n",
       "    </tr>\n",
       "    <tr>\n",
       "      <th>twittes4</th>\n",
       "      <td>soltura de lula causou oscilações na bols...</td>\n",
       "      <td>carteiroreaca  fui notificado pela direção...</td>\n",
       "      <td>bolsonaro edita medida provisória que extin...</td>\n",
       "      <td>parte  \\novacionado  presidente bolso...</td>\n",
       "      <td>bolsonarosp  muito se fala que o nordeste ...</td>\n",
       "    </tr>\n",
       "    <tr>\n",
       "      <th>twittes5</th>\n",
       "      <td>[soltura, de, lula, causou, oscilações, na, bo...</td>\n",
       "      <td>[carteiroreaca, fui, notificado, pela, direção...</td>\n",
       "      <td>[bolsonaro, edita, medida, provisória, que, ex...</td>\n",
       "      <td>[parte, ovacionado, presidente, bolsonaro, é, ...</td>\n",
       "      <td>[bolsonarosp, muito, se, fala, que, o, nordest...</td>\n",
       "    </tr>\n",
       "    <tr>\n",
       "      <th>tokens_stop</th>\n",
       "      <td>[soltura, lula, causou, oscilações, bolsa, val...</td>\n",
       "      <td>[carteiroreaca, notificado, direção, nacional,...</td>\n",
       "      <td>[bolsonaro, edita, medida, provisória, extingu...</td>\n",
       "      <td>[parte, ovacionado, presidente, bolsonaro, rec...</td>\n",
       "      <td>[bolsonarosp, fala, nordeste, apóia, lula, pt,...</td>\n",
       "    </tr>\n",
       "    <tr>\n",
       "      <th>tokens_pos</th>\n",
       "      <td>[(soltura, NN), (lula, NN), (causou, NN), (osc...</td>\n",
       "      <td>[(carteiroreaca, NN), (notificado, CC), (direç...</td>\n",
       "      <td>[(bolsonaro, NN), (edita, CC), (medida, NN), (...</td>\n",
       "      <td>[(parte, NN), (ovacionado, MD), (presidente, V...</td>\n",
       "      <td>[(bolsonarosp, NN), (fala, NN), (nordeste, NN)...</td>\n",
       "    </tr>\n",
       "    <tr>\n",
       "      <th>tokens_stem</th>\n",
       "      <td>[soltur, lul, caus, oscil, bols, valor, diz, b...</td>\n",
       "      <td>[carteiroreac, notific, direçã, nacional, psl,...</td>\n",
       "      <td>[bolsonar, edit, med, provisór, exting, dpvat,...</td>\n",
       "      <td>[part, ovacion, president, bolsonar, receb, gr...</td>\n",
       "      <td>[bolsonarosp, fal, nord, apó, lul, pt, agend, ...</td>\n",
       "    </tr>\n",
       "    <tr>\n",
       "      <th>tokens_lemma</th>\n",
       "      <td>[soltura, lula, causou, oscilações, bolsa, val...</td>\n",
       "      <td>[carteiroreaca, notificado, direção, nacional,...</td>\n",
       "      <td>[bolsonaro, edita, medida, provisória, extingu...</td>\n",
       "      <td>[parte, ovacionado, presidente, bolsonaro, rec...</td>\n",
       "      <td>[bolsonarosp, fala, nordeste, apóia, lula, pt,...</td>\n",
       "    </tr>\n",
       "  </tbody>\n",
       "</table>\n",
       "</div>"
      ],
      "text/plain": [
       "                                                              0  \\\n",
       "twittes        ' RT @MarcosQuezado1: Soltura de Lula causou ...   \n",
       "twittes2       ' rt @ : soltura de lula causou oscilações na...   \n",
       "twittes3       ' : soltura de lula causou oscilações na bols...   \n",
       "twittes4           soltura de lula causou oscilações na bols...   \n",
       "twittes5      [soltura, de, lula, causou, oscilações, na, bo...   \n",
       "tokens_stop   [soltura, lula, causou, oscilações, bolsa, val...   \n",
       "tokens_pos    [(soltura, NN), (lula, NN), (causou, NN), (osc...   \n",
       "tokens_stem   [soltur, lul, caus, oscil, bols, valor, diz, b...   \n",
       "tokens_lemma  [soltura, lula, causou, oscilações, bolsa, val...   \n",
       "\n",
       "                                                              1  \\\n",
       "twittes        ' RT @carteiroreaca: Fui notificado pela dire...   \n",
       "twittes2       ' rt @carteiroreaca: fui notificado pela dire...   \n",
       "twittes3       '  carteiroreaca: fui notificado pela direção...   \n",
       "twittes4          carteiroreaca  fui notificado pela direção...   \n",
       "twittes5      [carteiroreaca, fui, notificado, pela, direção...   \n",
       "tokens_stop   [carteiroreaca, notificado, direção, nacional,...   \n",
       "tokens_pos    [(carteiroreaca, NN), (notificado, CC), (direç...   \n",
       "tokens_stem   [carteiroreac, notific, direçã, nacional, psl,...   \n",
       "tokens_lemma  [carteiroreaca, notificado, direção, nacional,...   \n",
       "\n",
       "                                                              2  \\\n",
       "twittes        ' Bolsonaro edita medida provisória que extin...   \n",
       "twittes2       ' bolsonaro edita medida provisória que extin...   \n",
       "twittes3       ' bolsonaro edita medida provisória que extin...   \n",
       "twittes4         bolsonaro edita medida provisória que extin...   \n",
       "twittes5      [bolsonaro, edita, medida, provisória, que, ex...   \n",
       "tokens_stop   [bolsonaro, edita, medida, provisória, extingu...   \n",
       "tokens_pos    [(bolsonaro, NN), (edita, CC), (medida, NN), (...   \n",
       "tokens_stem   [bolsonar, edit, med, provisór, exting, dpvat,...   \n",
       "tokens_lemma  [bolsonaro, edita, medida, provisória, extingu...   \n",
       "\n",
       "                                                              3  \\\n",
       "twittes        ' RT @CarlaValente_17: ??? Parte 1\\nOvacionad...   \n",
       "twittes2       ' rt @ : ??? parte  \\novacionado! presidente ...   \n",
       "twittes3       ' : ??? parte  \\novacionado! presidente bolso...   \n",
       "twittes4               parte  \\novacionado  presidente bolso...   \n",
       "twittes5      [parte, ovacionado, presidente, bolsonaro, é, ...   \n",
       "tokens_stop   [parte, ovacionado, presidente, bolsonaro, rec...   \n",
       "tokens_pos    [(parte, NN), (ovacionado, MD), (presidente, V...   \n",
       "tokens_stem   [part, ovacion, president, bolsonar, receb, gr...   \n",
       "tokens_lemma  [parte, ovacionado, presidente, bolsonaro, rec...   \n",
       "\n",
       "                                                              4  \n",
       "twittes        ' RT @BolsonaroSP: Muito se fala que o Nordes...  \n",
       "twittes2       ' rt @bolsonarosp: muito se fala que o nordes...  \n",
       "twittes3       '  bolsonarosp: muito se fala que o nordeste ...  \n",
       "twittes4          bolsonarosp  muito se fala que o nordeste ...  \n",
       "twittes5      [bolsonarosp, muito, se, fala, que, o, nordest...  \n",
       "tokens_stop   [bolsonarosp, fala, nordeste, apóia, lula, pt,...  \n",
       "tokens_pos    [(bolsonarosp, NN), (fala, NN), (nordeste, NN)...  \n",
       "tokens_stem   [bolsonarosp, fal, nord, apó, lul, pt, agend, ...  \n",
       "tokens_lemma  [bolsonarosp, fala, nordeste, apóia, lula, pt,...  "
      ]
     },
     "execution_count": 72,
     "metadata": {},
     "output_type": "execute_result"
    }
   ],
   "source": [
    "# Realizar lematização, que é uma forma mais inteligente de derivação e leva em consideração o contexto\n",
    "from nltk.corpus import wordnet\n",
    "from nltk.stem.wordnet import WordNetLemmatizer\n",
    "nltk.download('averaged_perceptron_tagger')\n",
    "nltk.download('all')\n",
    "\n",
    "# Convert the naming scheme to one that is recognized by WordNet\n",
    "def get_wordnet_pos(treebank_tag):\n",
    "    if treebank_tag.startswith('J'):\n",
    "        return wordnet.ADJ\n",
    "    elif treebank_tag.startswith('V'):\n",
    "        return wordnet.VERB\n",
    "    elif treebank_tag.startswith('N'):\n",
    "        return wordnet.NOUN\n",
    "    elif treebank_tag.startswith('R'):\n",
    "        return wordnet.ADV\n",
    "    else:\n",
    "        return wordnet.NOUN\n",
    "\n",
    "lemmatizer = WordNetLemmatizer()\n",
    "lemmatizer_fun = lambda x: lemmatizer.lemmatize(*x)\n",
    "df_bozo['tokens_lemma'] = df_bozo.tokens_pos\\\n",
    "                        .apply(lambda x: [(y[0], get_wordnet_pos(y[1])) for y in x])\\\n",
    "                        .apply(lambda x: [lemmatizer_fun(y) for y in x])\n",
    "\n",
    "# Exibir as colunas transpostas\n",
    "df_bozo.head().T"
   ]
  },
  {
   "cell_type": "code",
   "execution_count": 73,
   "metadata": {
    "scrolled": true
   },
   "outputs": [
    {
     "data": {
      "text/html": [
       "<div>\n",
       "<style scoped>\n",
       "    .dataframe tbody tr th:only-of-type {\n",
       "        vertical-align: middle;\n",
       "    }\n",
       "\n",
       "    .dataframe tbody tr th {\n",
       "        vertical-align: top;\n",
       "    }\n",
       "\n",
       "    .dataframe thead th {\n",
       "        text-align: right;\n",
       "    }\n",
       "</style>\n",
       "<table border=\"1\" class=\"dataframe\">\n",
       "  <thead>\n",
       "    <tr style=\"text-align: right;\">\n",
       "      <th></th>\n",
       "      <th>0</th>\n",
       "      <th>1</th>\n",
       "      <th>2</th>\n",
       "      <th>3</th>\n",
       "      <th>4</th>\n",
       "    </tr>\n",
       "  </thead>\n",
       "  <tbody>\n",
       "    <tr>\n",
       "      <th>twittes</th>\n",
       "      <td>' RT @MarcosQuezado1: Soltura de Lula causou ...</td>\n",
       "      <td>' RT @carteiroreaca: Fui notificado pela dire...</td>\n",
       "      <td>' Bolsonaro edita medida provisória que extin...</td>\n",
       "      <td>' RT @CarlaValente_17: ??? Parte 1\\nOvacionad...</td>\n",
       "      <td>' RT @BolsonaroSP: Muito se fala que o Nordes...</td>\n",
       "    </tr>\n",
       "    <tr>\n",
       "      <th>twittes2</th>\n",
       "      <td>' rt @ : soltura de lula causou oscilações na...</td>\n",
       "      <td>' rt @carteiroreaca: fui notificado pela dire...</td>\n",
       "      <td>' bolsonaro edita medida provisória que extin...</td>\n",
       "      <td>' rt @ : ??? parte  \\novacionado! presidente ...</td>\n",
       "      <td>' rt @bolsonarosp: muito se fala que o nordes...</td>\n",
       "    </tr>\n",
       "    <tr>\n",
       "      <th>twittes3</th>\n",
       "      <td>' : soltura de lula causou oscilações na bols...</td>\n",
       "      <td>'  carteiroreaca: fui notificado pela direção...</td>\n",
       "      <td>' bolsonaro edita medida provisória que extin...</td>\n",
       "      <td>' : ??? parte  \\novacionado! presidente bolso...</td>\n",
       "      <td>'  bolsonarosp: muito se fala que o nordeste ...</td>\n",
       "    </tr>\n",
       "    <tr>\n",
       "      <th>twittes4</th>\n",
       "      <td>soltura de lula causou oscilações na bols...</td>\n",
       "      <td>carteiroreaca  fui notificado pela direção...</td>\n",
       "      <td>bolsonaro edita medida provisória que extin...</td>\n",
       "      <td>parte  \\novacionado  presidente bolso...</td>\n",
       "      <td>bolsonarosp  muito se fala que o nordeste ...</td>\n",
       "    </tr>\n",
       "    <tr>\n",
       "      <th>twittes5</th>\n",
       "      <td>[soltura, de, lula, causou, oscilações, na, bo...</td>\n",
       "      <td>[carteiroreaca, fui, notificado, pela, direção...</td>\n",
       "      <td>[bolsonaro, edita, medida, provisória, que, ex...</td>\n",
       "      <td>[parte, ovacionado, presidente, bolsonaro, é, ...</td>\n",
       "      <td>[bolsonarosp, muito, se, fala, que, o, nordest...</td>\n",
       "    </tr>\n",
       "    <tr>\n",
       "      <th>tokens_stop</th>\n",
       "      <td>[soltura, lula, causou, oscilações, bolsa, val...</td>\n",
       "      <td>[carteiroreaca, notificado, direção, nacional,...</td>\n",
       "      <td>[bolsonaro, edita, medida, provisória, extingu...</td>\n",
       "      <td>[parte, ovacionado, presidente, bolsonaro, rec...</td>\n",
       "      <td>[bolsonarosp, fala, nordeste, apóia, lula, pt,...</td>\n",
       "    </tr>\n",
       "    <tr>\n",
       "      <th>tokens_pos</th>\n",
       "      <td>[(soltura, NN), (lula, NN), (causou, NN), (osc...</td>\n",
       "      <td>[(carteiroreaca, NN), (notificado, CC), (direç...</td>\n",
       "      <td>[(bolsonaro, NN), (edita, CC), (medida, NN), (...</td>\n",
       "      <td>[(parte, NN), (ovacionado, MD), (presidente, V...</td>\n",
       "      <td>[(bolsonarosp, NN), (fala, NN), (nordeste, NN)...</td>\n",
       "    </tr>\n",
       "    <tr>\n",
       "      <th>tokens_stem</th>\n",
       "      <td>[soltur, lul, caus, oscil, bols, valor, diz, b...</td>\n",
       "      <td>[carteiroreac, notific, direçã, nacional, psl,...</td>\n",
       "      <td>[bolsonar, edit, med, provisór, exting, dpvat,...</td>\n",
       "      <td>[part, ovacion, president, bolsonar, receb, gr...</td>\n",
       "      <td>[bolsonarosp, fal, nord, apó, lul, pt, agend, ...</td>\n",
       "    </tr>\n",
       "    <tr>\n",
       "      <th>tokens_lemma</th>\n",
       "      <td>[soltura, lula, causou, oscilações, bolsa, val...</td>\n",
       "      <td>[carteiroreaca, notificado, direção, nacional,...</td>\n",
       "      <td>[bolsonaro, edita, medida, provisória, extingu...</td>\n",
       "      <td>[parte, ovacionado, presidente, bolsonaro, rec...</td>\n",
       "      <td>[bolsonarosp, fala, nordeste, apóia, lula, pt,...</td>\n",
       "    </tr>\n",
       "  </tbody>\n",
       "</table>\n",
       "</div>"
      ],
      "text/plain": [
       "                                                              0  \\\n",
       "twittes        ' RT @MarcosQuezado1: Soltura de Lula causou ...   \n",
       "twittes2       ' rt @ : soltura de lula causou oscilações na...   \n",
       "twittes3       ' : soltura de lula causou oscilações na bols...   \n",
       "twittes4           soltura de lula causou oscilações na bols...   \n",
       "twittes5      [soltura, de, lula, causou, oscilações, na, bo...   \n",
       "tokens_stop   [soltura, lula, causou, oscilações, bolsa, val...   \n",
       "tokens_pos    [(soltura, NN), (lula, NN), (causou, NN), (osc...   \n",
       "tokens_stem   [soltur, lul, caus, oscil, bols, valor, diz, b...   \n",
       "tokens_lemma  [soltura, lula, causou, oscilações, bolsa, val...   \n",
       "\n",
       "                                                              1  \\\n",
       "twittes        ' RT @carteiroreaca: Fui notificado pela dire...   \n",
       "twittes2       ' rt @carteiroreaca: fui notificado pela dire...   \n",
       "twittes3       '  carteiroreaca: fui notificado pela direção...   \n",
       "twittes4          carteiroreaca  fui notificado pela direção...   \n",
       "twittes5      [carteiroreaca, fui, notificado, pela, direção...   \n",
       "tokens_stop   [carteiroreaca, notificado, direção, nacional,...   \n",
       "tokens_pos    [(carteiroreaca, NN), (notificado, CC), (direç...   \n",
       "tokens_stem   [carteiroreac, notific, direçã, nacional, psl,...   \n",
       "tokens_lemma  [carteiroreaca, notificado, direção, nacional,...   \n",
       "\n",
       "                                                              2  \\\n",
       "twittes        ' Bolsonaro edita medida provisória que extin...   \n",
       "twittes2       ' bolsonaro edita medida provisória que extin...   \n",
       "twittes3       ' bolsonaro edita medida provisória que extin...   \n",
       "twittes4         bolsonaro edita medida provisória que extin...   \n",
       "twittes5      [bolsonaro, edita, medida, provisória, que, ex...   \n",
       "tokens_stop   [bolsonaro, edita, medida, provisória, extingu...   \n",
       "tokens_pos    [(bolsonaro, NN), (edita, CC), (medida, NN), (...   \n",
       "tokens_stem   [bolsonar, edit, med, provisór, exting, dpvat,...   \n",
       "tokens_lemma  [bolsonaro, edita, medida, provisória, extingu...   \n",
       "\n",
       "                                                              3  \\\n",
       "twittes        ' RT @CarlaValente_17: ??? Parte 1\\nOvacionad...   \n",
       "twittes2       ' rt @ : ??? parte  \\novacionado! presidente ...   \n",
       "twittes3       ' : ??? parte  \\novacionado! presidente bolso...   \n",
       "twittes4               parte  \\novacionado  presidente bolso...   \n",
       "twittes5      [parte, ovacionado, presidente, bolsonaro, é, ...   \n",
       "tokens_stop   [parte, ovacionado, presidente, bolsonaro, rec...   \n",
       "tokens_pos    [(parte, NN), (ovacionado, MD), (presidente, V...   \n",
       "tokens_stem   [part, ovacion, president, bolsonar, receb, gr...   \n",
       "tokens_lemma  [parte, ovacionado, presidente, bolsonaro, rec...   \n",
       "\n",
       "                                                              4  \n",
       "twittes        ' RT @BolsonaroSP: Muito se fala que o Nordes...  \n",
       "twittes2       ' rt @bolsonarosp: muito se fala que o nordes...  \n",
       "twittes3       '  bolsonarosp: muito se fala que o nordeste ...  \n",
       "twittes4          bolsonarosp  muito se fala que o nordeste ...  \n",
       "twittes5      [bolsonarosp, muito, se, fala, que, o, nordest...  \n",
       "tokens_stop   [bolsonarosp, fala, nordeste, apóia, lula, pt,...  \n",
       "tokens_pos    [(bolsonarosp, NN), (fala, NN), (nordeste, NN)...  \n",
       "tokens_stem   [bolsonarosp, fal, nord, apó, lul, pt, agend, ...  \n",
       "tokens_lemma  [bolsonarosp, fala, nordeste, apóia, lula, pt,...  "
      ]
     },
     "execution_count": 73,
     "metadata": {},
     "output_type": "execute_result"
    }
   ],
   "source": [
    "df_bozo.head().T"
   ]
  },
  {
   "cell_type": "code",
   "execution_count": 74,
   "metadata": {},
   "outputs": [
    {
     "data": {
      "text/plain": [
       "['soltur',\n",
       " 'lul',\n",
       " 'caus',\n",
       " 'oscil',\n",
       " 'bols',\n",
       " 'valor',\n",
       " 'diz',\n",
       " 'bolsonar',\n",
       " 'https',\n",
       " 't',\n",
       " 'co',\n",
       " 'via',\n",
       " 'renovamid',\n",
       " 'carteiroreac',\n",
       " 'notific']"
      ]
     },
     "execution_count": 74,
     "metadata": {},
     "output_type": "execute_result"
    }
   ],
   "source": [
    "# Vamos encontrar as palavras mais comuns depois de limpar os dados\n",
    "\n",
    "# Isso cria uma lista enorme combinando todos os valores de tokens\n",
    "word_list_clean = sum(df_bozo.tokens_stem.tolist(), [])\n",
    "\n",
    "word_list_clean[:15]\n"
   ]
  },
  {
   "cell_type": "code",
   "execution_count": 75,
   "metadata": {},
   "outputs": [
    {
     "data": {
      "text/plain": [
       "[(7994, 'bolsonar'),\n",
       " (2546, 'https'),\n",
       " (2528, 't'),\n",
       " (2508, 'co'),\n",
       " (1673, 'lul'),\n",
       " (1407, 'president'),\n",
       " (1405, 'part'),\n",
       " (1161, 'brasil'),\n",
       " (1157, 'psl'),\n",
       " (1068, 'govern')]"
      ]
     },
     "execution_count": 75,
     "metadata": {},
     "output_type": "execute_result"
    }
   ],
   "source": [
    "from collections import Counter\n",
    "\n",
    "# Converte a lista em um dicionário com contagem de valores\n",
    "word_counts_clean = Counter(word_list_clean)\n",
    "a = word_counts_clean\n",
    "\n",
    "# Inverta a chave / valores no dicionário para classificar\n",
    "word_counts_clean = list(zip(word_counts_clean.values(), word_counts_clean.keys()))\n",
    "\n",
    "# Classifique a lista por contagem\n",
    "word_counts_clean = sorted(word_counts_clean, reverse=True)\n",
    "\n",
    "# Imprime as 10 palavras mais comuns\n",
    "word_counts_clean[:10]"
   ]
  },
  {
   "cell_type": "markdown",
   "metadata": {},
   "source": []
  },
  {
   "cell_type": "code",
   "execution_count": 79,
   "metadata": {},
   "outputs": [
    {
     "data": {
      "text/html": [
       "<div align='center' style='width:100%'><div align='center' style='text-align:justify; border-radius: 25px;background: #fff7f7;overflow: auto; width:500px !important; padding:20px; '; text-align: center; word-wrap: break-word;> <span style='color:#bc72d0;font-size:0.8em;white-space: normal;font-family:verdana;display: inline-block;line-height:30px'>reuniã&nbsp;</span> <span style='color:#bc72d0;font-size:0.8em;white-space: normal;font-family:verdana;display: inline-block;line-height:30px'>sobr&nbsp;</span> <span style='color:#8000FF;font-size:0.9500000000000001em;white-space: normal;font-family:verdana;display: inline-block;line-height:30px'>porr&nbsp;</span> <span style='color:#bc72d0;font-size:0.8em;white-space: normal;font-family:verdana;display: inline-block;line-height:30px'>brazilfight&nbsp;</span> <span style='color:#B18904;font-size:2.2999999999999994em;white-space: normal;font-family:verdana;display: inline-block;line-height:30px'>bolsonar&nbsp;</span> <span style='color:#bc72d0;font-size:0.8em;white-space: normal;font-family:verdana;display: inline-block;line-height:30px'>vis&nbsp;</span> <span style='color:#bc72d0;font-size:0.8em;white-space: normal;font-family:verdana;display: inline-block;line-height:30px'>carl&nbsp;</span> <span style='color:#8000FF;font-size:0.9500000000000001em;white-space: normal;font-family:verdana;display: inline-block;line-height:30px'>brasil&nbsp;</span> <span style='color:#8000FF;font-size:0.9500000000000001em;white-space: normal;font-family:verdana;display: inline-block;line-height:30px'>psl&nbsp;</span> <span style='color:#8000FF;font-size:0.9500000000000001em;white-space: normal;font-family:verdana;display: inline-block;line-height:30px'>part&nbsp;</span> <span style='color:#bc72d0;font-size:0.8em;white-space: normal;font-family:verdana;display: inline-block;line-height:30px'>ser&nbsp;</span> <span style='color:#bc72d0;font-size:0.8em;white-space: normal;font-family:verdana;display: inline-block;line-height:30px'>aí&nbsp;</span> <span style='color:#bc72d0;font-size:0.8em;white-space: normal;font-family:verdana;display: inline-block;line-height:30px'>lanc&nbsp;</span> <span style='color:#bc72d0;font-size:0.8em;white-space: normal;font-family:verdana;display: inline-block;line-height:30px'>verd&nbsp;</span> <span style='color:#bc72d0;font-size:0.8em;white-space: normal;font-family:verdana;display: inline-block;line-height:30px'>onde&nbsp;</span> <span style='color:#bc72d0;font-size:0.8em;white-space: normal;font-family:verdana;display: inline-block;line-height:30px'>nacional&nbsp;</span> <span style='color:#FF5733;font-size:1.25em;white-space: normal;font-family:verdana;display: inline-block;line-height:30px'>https&nbsp;</span> <span style='color:#bc72d0;font-size:0.8em;white-space: normal;font-family:verdana;display: inline-block;line-height:30px'>jovens&nbsp;</span> <span style='color:#bc72d0;font-size:0.8em;white-space: normal;font-family:verdana;display: inline-block;line-height:30px'>diz&nbsp;</span> <span style='color:#8000FF;font-size:0.9500000000000001em;white-space: normal;font-family:verdana;display: inline-block;line-height:30px'>president&nbsp;</span> <span style='color:#bc72d0;font-size:0.8em;white-space: normal;font-family:verdana;display: inline-block;line-height:30px'>vot&nbsp;</span> <span style='color:#bc72d0;font-size:0.8em;white-space: normal;font-family:verdana;display: inline-block;line-height:30px'>lei&nbsp;</span> <span style='color:#bc72d0;font-size:0.8em;white-space: normal;font-family:verdana;display: inline-block;line-height:30px'>jair&nbsp;</span> <span style='color:#bc72d0;font-size:0.8em;white-space: normal;font-family:verdana;display: inline-block;line-height:30px'>program&nbsp;</span> <span style='color:#bc72d0;font-size:0.8em;white-space: normal;font-family:verdana;display: inline-block;line-height:30px'>contr&nbsp;</span> <span style='color:#bc72d0;font-size:0.8em;white-space: normal;font-family:verdana;display: inline-block;line-height:30px'>nov&nbsp;</span> <span style='color:#bc72d0;font-size:0.8em;white-space: normal;font-family:verdana;display: inline-block;line-height:30px'>acontec&nbsp;</span> <span style='color:#bc72d0;font-size:0.8em;white-space: normal;font-family:verdana;display: inline-block;line-height:30px'>pra&nbsp;</span> <span style='color:#8000FF;font-size:0.9500000000000001em;white-space: normal;font-family:verdana;display: inline-block;line-height:30px'>caralh&nbsp;</span> <span style='color:#8000FF;font-size:0.9500000000000001em;white-space: normal;font-family:verdana;display: inline-block;line-height:30px'>govern&nbsp;</span> <span style='color:#8000FF;font-size:0.9500000000000001em;white-space: normal;font-family:verdana;display: inline-block;line-height:30px'>golp&nbsp;</span> <span style='color:#bc72d0;font-size:0.8em;white-space: normal;font-family:verdana;display: inline-block;line-height:30px'>post&nbsp;</span> <span style='color:#FF5733;font-size:1.25em;white-space: normal;font-family:verdana;display: inline-block;line-height:30px'>co&nbsp;</span> <span style='color:#bc72d0;font-size:0.8em;white-space: normal;font-family:verdana;display: inline-block;line-height:30px'>gol&nbsp;</span> <span style='color:#bc72d0;font-size:0.8em;white-space: normal;font-family:verdana;display: inline-block;line-height:30px'>anunc&nbsp;</span> <span style='color:#bc72d0;font-size:0.8em;white-space: normal;font-family:verdana;display: inline-block;line-height:30px'>ta&nbsp;</span> <span style='color:#bc72d0;font-size:0.8em;white-space: normal;font-family:verdana;display: inline-block;line-height:30px'>idiot&nbsp;</span> <span style='color:#3498DB;font-size:1.1em;white-space: normal;font-family:verdana;display: inline-block;line-height:30px'>lul&nbsp;</span> <span style='color:#bc72d0;font-size:0.8em;white-space: normal;font-family:verdana;display: inline-block;line-height:30px'>contrat&nbsp;</span> <span style='color:#bc72d0;font-size:0.8em;white-space: normal;font-family:verdana;display: inline-block;line-height:30px'>fal&nbsp;</span> <span style='color:#8000FF;font-size:0.9500000000000001em;white-space: normal;font-family:verdana;display: inline-block;line-height:30px'>bolív&nbsp;</span> <span style='color:#bc72d0;font-size:0.8em;white-space: normal;font-family:verdana;display: inline-block;line-height:30px'>fodas&nbsp;</span> <span style='color:#bc72d0;font-size:0.8em;white-space: normal;font-family:verdana;display: inline-block;line-height:30px'>incentiv&nbsp;</span> <span style='color:#bc72d0;font-size:0.8em;white-space: normal;font-family:verdana;display: inline-block;line-height:30px'>vai&nbsp;</span> <span style='color:#bc72d0;font-size:0.8em;white-space: normal;font-family:verdana;display: inline-block;line-height:30px'>urgent&nbsp;</span> <span style='color:#bc72d0;font-size:0.8em;white-space: normal;font-family:verdana;display: inline-block;line-height:30px'>fot&nbsp;</span> <span style='color:#bc72d0;font-size:0.8em;white-space: normal;font-family:verdana;display: inline-block;line-height:30px'>quer&nbsp;</span> <span style='color:#bc72d0;font-size:0.8em;white-space: normal;font-family:verdana;display: inline-block;line-height:30px'>segur&nbsp;</span> <span style='color:#bc72d0;font-size:0.8em;white-space: normal;font-family:verdana;display: inline-block;line-height:30px'>remin&nbsp;</span> <span style='color:#bc72d0;font-size:0.8em;white-space: normal;font-family:verdana;display: inline-block;line-height:30px'>ameac&nbsp;</span></div></div>"
      ],
      "text/plain": [
       "<IPython.core.display.HTML object>"
      ]
     },
     "execution_count": 79,
     "metadata": {},
     "output_type": "execute_result"
    }
   ],
   "source": [
    "Stopwords = nltk.corpus.stopwords.words('portuguese')\n",
    "wc=WordCloud(use_tfidf=True,stopwords=Stopwords)\n",
    "#wc=WordCloud()\n",
    "\n",
    "#somente os top 50\n",
    "#embed_code=wc.get_embed_code(text=texts,random_color=False,topn=50)\n",
    "embed_code=wc.get_embed_code(text=word_list_clean,random_color=False,topn=50)\n",
    "\n",
    "HTML(embed_code)"
   ]
  },
  {
   "cell_type": "code",
   "execution_count": null,
   "metadata": {},
   "outputs": [],
   "source": []
  },
  {
   "cell_type": "code",
   "execution_count": null,
   "metadata": {},
   "outputs": [],
   "source": []
  },
  {
   "cell_type": "code",
   "execution_count": 84,
   "metadata": {
    "scrolled": true
   },
   "outputs": [
    {
     "ename": "AttributeError",
     "evalue": "'WordCloud' object has no attribute 'generate'",
     "output_type": "error",
     "traceback": [
      "\u001b[1;31m---------------------------------------------------------------------------\u001b[0m",
      "\u001b[1;31mAttributeError\u001b[0m                            Traceback (most recent call last)",
      "\u001b[1;32m<ipython-input-84-782a16b57069>\u001b[0m in \u001b[0;36m<module>\u001b[1;34m\u001b[0m\n\u001b[0;32m      3\u001b[0m \u001b[1;32mimport\u001b[0m \u001b[0mmatplotlib\u001b[0m\u001b[1;33m.\u001b[0m\u001b[0mpyplot\u001b[0m \u001b[1;32mas\u001b[0m \u001b[0mplt\u001b[0m\u001b[1;33m\u001b[0m\u001b[1;33m\u001b[0m\u001b[0m\n\u001b[0;32m      4\u001b[0m \u001b[0mtext\u001b[0m \u001b[1;33m=\u001b[0m \u001b[0mword_list_clean\u001b[0m\u001b[1;33m\u001b[0m\u001b[1;33m\u001b[0m\u001b[0m\n\u001b[1;32m----> 5\u001b[1;33m \u001b[0mwordcloud\u001b[0m \u001b[1;33m=\u001b[0m \u001b[0mWordCloud\u001b[0m\u001b[1;33m(\u001b[0m\u001b[1;33m)\u001b[0m\u001b[1;33m.\u001b[0m\u001b[0mgenerate\u001b[0m\u001b[1;33m(\u001b[0m\u001b[0ma\u001b[0m\u001b[1;33m)\u001b[0m\u001b[1;33m\u001b[0m\u001b[1;33m\u001b[0m\u001b[0m\n\u001b[0m\u001b[0;32m      6\u001b[0m \u001b[1;31m#wordcloud = WordCloud(width=1600, height=800, max_font_size=200).fit_words(a)\u001b[0m\u001b[1;33m\u001b[0m\u001b[1;33m\u001b[0m\u001b[1;33m\u001b[0m\u001b[0m\n\u001b[0;32m      7\u001b[0m \u001b[1;31m#wordcloud = WordCloud(width=1600, height=800, max_font_size=200).generate(text)\u001b[0m\u001b[1;33m\u001b[0m\u001b[1;33m\u001b[0m\u001b[1;33m\u001b[0m\u001b[0m\n",
      "\u001b[1;31mAttributeError\u001b[0m: 'WordCloud' object has no attribute 'generate'"
     ]
    }
   ],
   "source": [
    "from wordcloud import WordCloud\n",
    "from word_cloud.word_cloud_generator import WordCloud\n",
    "import matplotlib.pyplot as plt\n",
    "text = word_list_clean\n",
    "wordcloud = WordCloud().generate(a)\n",
    "#wordcloud = WordCloud(width=1600, height=800, max_font_size=200).fit_words(a)\n",
    "#wordcloud = WordCloud(width=1600, height=800, max_font_size=200).generate(text)\n",
    "plt.figure(figsize=(12,10))\n",
    "plt.imshow(wordcloud, interpolation='bilinear')\n",
    "plt.axis(\"off\")\n",
    "plt.show()"
   ]
  },
  {
   "cell_type": "code",
   "execution_count": null,
   "metadata": {},
   "outputs": [],
   "source": []
  }
 ],
 "metadata": {
  "kernelspec": {
   "display_name": "Python 3",
   "language": "python",
   "name": "python3"
  },
  "language_info": {
   "codemirror_mode": {
    "name": "ipython",
    "version": 3
   },
   "file_extension": ".py",
   "mimetype": "text/x-python",
   "name": "python",
   "nbconvert_exporter": "python",
   "pygments_lexer": "ipython3",
   "version": "3.7.3"
  }
 },
 "nbformat": 4,
 "nbformat_minor": 4
}
